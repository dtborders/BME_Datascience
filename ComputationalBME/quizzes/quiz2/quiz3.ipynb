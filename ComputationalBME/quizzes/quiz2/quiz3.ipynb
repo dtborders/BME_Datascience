{
 "cells": [
  {
   "cell_type": "code",
   "execution_count": 6,
   "metadata": {},
   "outputs": [
    {
     "name": "stdout",
     "output_type": "stream",
     "text": [
      "Name: Daniel Borders, Email: [dtborders@gmail.com, dborder1@jhu.edu], GithubID: dtborders\n"
     ]
    }
   ],
   "source": [
    "print(\"Name: {}, Email: [{}, {}], GithubID: {}\".format(\"Daniel Borders\", \"dtborders@gmail.com\", \"dborder1@jhu.edu\", \"dtborders\"))"
   ]
  },
  {
   "cell_type": "code",
   "execution_count": 8,
   "metadata": {},
   "outputs": [
    {
     "name": "stdout",
     "output_type": "stream",
     "text": [
      "--2019-09-18 16:46:21--  https://raw.githubusercontent.com/bcaffo/ds4bme_intro/master/data/orings.csv\n",
      "Resolving raw.githubusercontent.com (raw.githubusercontent.com)... 151.101.200.133\n",
      "Connecting to raw.githubusercontent.com (raw.githubusercontent.com)|151.101.200.133|:443... connected.\n",
      "HTTP request sent, awaiting response... 200 OK\n",
      "Length: 357 [text/plain]\n",
      "Saving to: ‘orings.csv’\n",
      "\n",
      "orings.csv          100%[===================>]     357  --.-KB/s    in 0s      \n",
      "\n",
      "2019-09-18 16:46:21 (37.8 MB/s) - ‘orings.csv’ saved [357/357]\n",
      "\n"
     ]
    }
   ],
   "source": [
    "! if [ ! -e orings.csv ] ; \\\n",
    "  then wget https://raw.githubusercontent.com/bcaffo/ds4bme_intro/master/data/orings.csv; \\\n",
    "fi"
   ]
  },
  {
   "cell_type": "code",
   "execution_count": 76,
   "metadata": {},
   "outputs": [
    {
     "name": "stdout",
     "output_type": "stream",
     "text": [
      "beta0=-0.391, beta1=-0.235\n",
      "P(74 fails)=0.116\n"
     ]
    },
    {
     "name": "stderr",
     "output_type": "stream",
     "text": [
      "/Users/dannytb/anaconda3/lib/python3.6/site-packages/sklearn/utils/validation.py:578: DataConversionWarning: A column-vector y was passed when a 1d array was expected. Please change the shape of y to (n_samples, ), for example using ravel().\n",
      "  y = column_or_1d(y, warn=True)\n"
     ]
    },
    {
     "data": {
      "image/png": "[encoded data removed]",
      "text/plain": [
       "<Figure size 432x288 with 1 Axes>"
      ]
     },
     "metadata": {},
     "output_type": "display_data"
    }
   ],
   "source": [
    "import pandas as pd\n",
    "import matplotlib.pyplot as plt\n",
    "import sklearn.linear_model as lm\n",
    "import numpy as np\n",
    "%matplotlib inline\n",
    "\n",
    "#QUESTION 1\n",
    "\n",
    "fl=pd.read_csv(\"orings.csv\")\n",
    "\n",
    "X=fl.Temperature\n",
    "\n",
    "#Center X around the origin to make the Logistic regression pretty\n",
    "shiftby=min(X)+(max(X)-min(X))/2\n",
    "Xcen=list(map(lambda x: x-shiftby,X))\n",
    "\n",
    "#Reduce Y to a binary 0 or 1 depending on if it has any amount of failures. \n",
    "Y=list(map(lambda x: 1 if x > 0 else 0, fl.Total))\n",
    "\n",
    "\n",
    "Xarr=np.array(Xcen).reshape((-1,1))\n",
    "Yarr=np.array(Y).reshape((-1,1))\n",
    "\n",
    "plt.figure()\n",
    "plt.step(X, Y)\n",
    "plt.xlabel(\"Temperature\")\n",
    "plt.ylabel(\"Failure (1=fail, 0=pass)\")\n",
    "plt.title(\"Failures vs. Temperature\")\n",
    "\n",
    "lreg=lm.LogisticRegression(solver='liblinear').fit(Xarr,Yarr)\n",
    "\n",
    "beta0, beta1 = [lreg.intercept_[0], lreg.coef_[0][0]]\n",
    "print(\"beta0={0:0.3f}, beta1={1:0.3f}\".format(beta0, beta1))\n",
    "\n",
    "n = 1000\n",
    "xplot = np.linspace(min(X), max(X), n)\n",
    "\n",
    "regm = lambda x: 1 / (1 + np.exp(-(beta0 + beta1 * (x-shiftby))))\n",
    "\n",
    "plt.plot(xplot, regm(xplot))\n",
    "plt.legend(['truth', 'lin reg model'])\n",
    "\n",
    "print(\"P(74 fails)={0:0.3f}\".format(regm(74)))\n"
   ]
  },
  {
   "cell_type": "markdown",
   "metadata": {},
   "source": [
    "## Question 2\n",
    "\n",
    "$$log(\\prod_{i}P(Y_i=1|X_i)^{Y_i}P(Y_i=0|X_i)^{1-Y_i})=\\sum_i log(P(Y_i=1|X_i)^{Y_i}P(Y_i=0|X_i)^{1-Y_i})$$\n",
    "\n",
    "$$\\sum_ilog(\\frac{e^{\\beta_0(1 - X_i) +\\beta_1X_i}}{1 + e^{\\beta_0(1 - X_i) +\\beta_1X_i}}^{Y_i}\\frac{1}{1 + e^{\\beta_0(1 - X_i) +\\beta_1X_i}}^{1-Y_i})$$\n",
    "<center>Since:</center>\n",
    "$$P(Y_i=1|X_i)=e^{\\beta_0(1 - X_i) +\\beta_1X_i}/(1 + e^{\\beta_0(1 - X_i) +\\beta_1X_i})$$\n",
    "$$P(Y_i=0|X_i)=1-P(Y_i=1|X_i)$$\n",
    "<center>Thus:</center>\n",
    "$$\\sum_ilog(\\frac{e^{\\beta_0(1 - X_i) +\\beta_1X_i}}{1 + e^{\\beta_0(1 - X_i) +\\beta_1X_i}}^{Y_i}\\frac{1}{1 + e^{\\beta_0(1 - X_i) +\\beta_1X_i}}^{1}(1 + e^{\\beta_0(1 - X_i) +\\beta_1X_i})^{Y_i})$$\n",
    "$$\\sum_ilog((e^{\\beta_0(1 - X_i) +\\beta_1X_i})^{Y_i}\\frac{1}{1 + e^{\\beta_0(1 - X_i) +\\beta_1X_i}})$$\n",
    "$$\\sum_ilog((e^{\\beta_0(1 - X_i) +\\beta_1X_i})^{Y_i})+log(\\frac{1}{1 + e^{\\beta_0(1 - X_i) +\\beta_1X_i}})$$\n",
    "$$\\sum_iY_i(\\beta_0(1 - X_i) +\\beta_1X_i)-log(1 + e^{\\beta_0(1 - X_i) +\\beta_1X_i})$$\n",
    "\n",
    "$$\\sum_{istX_1=0}Y_i*\\beta_0(1 - X_i)-log(1 + e^{\\beta_0(1 - X_i)}) + \\sum_{istX_1=1}Y_i*\\beta_1X_i-log(1 + e^{\\beta_1X_i})$$\n",
    "$$\\sum_{istX_1=0}Y_i*\\beta_0-log(1 + e^{\\beta_0}) + \\sum_{istX_1=1}Y_i*\\beta_1-log(1 + e^{\\beta_1})$$\n",
    "\n",
    "<center>Now differentiate:</center>\n",
    "$$d/dB_1=\\sum_{istX_1=0}Y_i-\\frac{e^{\\beta_0}}{1 + e^{\\beta_0}}$$\n",
    "<center>Doesnt depend on X_1 so we can get rid of the sum if we let n=(number of X_1) and $\\bar Y_1=n^{-1}\\sum_{i st X_i=1} Y_1$</center>\n",
    "$$0=n\\bar Y_1 - n*\\frac {e^{\\beta_1}}{1 + e^{\\beta_1}}$$\n",
    "$$\\bar Y_1 = \\frac {e^{\\beta_1}}{1 + e^{\\beta_1}}$$\n",
    "$$\\beta_1 = log(\\frac {\\bar Y_1}{1 - \\bar Y_1})$$\n",
    "\n",
    "<center>Using the same logic we can prove:</center>\n",
    "$$\\beta_0 = log(\\frac {\\bar Y_0}{1 - \\bar Y_0})$$\n",
    "\n"
   ]
  },
  {
   "cell_type": "code",
   "execution_count": 82,
   "metadata": {},
   "outputs": [
    {
     "name": "stdout",
     "output_type": "stream",
     "text": [
      "   Sepal Length  Sepal Width  Petal Length  Petal Width  Class\n",
      "0           5.1          3.5           1.4          0.2      0\n",
      "1           4.9          3.0           1.4          0.2      0\n",
      "2           4.7          3.2           1.3          0.2      0\n",
      "3           4.6          3.1           1.5          0.2      0\n",
      "4           5.0          3.6           1.4          0.2      0\n",
      "5           5.4          3.9           1.7          0.4      0\n",
      "6           4.6          3.4           1.4          0.3      0\n",
      "7           5.0          3.4           1.5          0.2      0\n",
      "8           4.4          2.9           1.4          0.2      0\n",
      "9           4.9          3.1           1.5          0.1      0\n"
     ]
    }
   ],
   "source": [
    "#QUESTION 3\n",
    "from sklearn.datasets import load_iris\n",
    "X, Y = load_iris(return_X_y=True)\n",
    "\n",
    "SL=[]\n",
    "SW=[]\n",
    "PL=[]\n",
    "PW=[]\n",
    "for x in X:\n",
    "    SL.append(x[0])\n",
    "    SW.append(x[1])\n",
    "    PL.append(x[2])\n",
    "    PW.append(x[3])\n",
    "data={\"Sepal Length\":SL, \"Sepal Width\":SW, \"Petal Length\":PL, \"Petal Width\":PW, \"Class\":Y}\n",
    "\n",
    "df=pd.DataFrame(data)\n",
    "print(df.head(10))"
   ]
  },
  {
   "cell_type": "code",
   "execution_count": null,
   "metadata": {},
   "outputs": [],
   "source": []
  }
 ],
 "metadata": {
  "kernelspec": {
   "display_name": "Python 3",
   "language": "python",
   "name": "python3"
  },
  "language_info": {
   "codemirror_mode": {
    "name": "ipython",
    "version": 3
   },
   "file_extension": ".py",
   "mimetype": "text/x-python",
   "name": "python",
   "nbconvert_exporter": "python",
   "pygments_lexer": "ipython3",
   "version": "3.6.5"
  }
 },
 "nbformat": 4,
 "nbformat_minor": 2
}

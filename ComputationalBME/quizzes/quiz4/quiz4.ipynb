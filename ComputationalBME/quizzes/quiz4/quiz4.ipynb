{
 "cells": [
  {
   "cell_type": "code",
   "execution_count": 49,
   "metadata": {},
   "outputs": [],
   "source": [
    "import pandas as pd\n",
    "import numpy as np\n",
    "import math\n",
    "import random\n",
    "import scipy\n",
    "import statsmodels.formula.api as smf\n",
    "import sklearn.linear_model as lm\n",
    "\n",
    "import matplotlib.pyplot as plt\n",
    "%matplotlib inline"
   ]
  },
  {
   "cell_type": "markdown",
   "metadata": {},
   "source": [
    "# Exercise 1"
   ]
  },
  {
   "cell_type": "code",
   "execution_count": 4,
   "metadata": {},
   "outputs": [
    {
     "name": "stdout",
     "output_type": "stream",
     "text": [
      "binary.csv  kirby21.csv quiz4.ipynb\r\n"
     ]
    }
   ],
   "source": [
    "! if [ ! -e kirby21.csv ] ; \\\n",
    "  then wget https://raw.githubusercontent.com/bcaffo/ds4bme_intro/master/data/kirby21.csv; \\\n",
    "fi\n",
    "\n",
    "!ls"
   ]
  },
  {
   "cell_type": "code",
   "execution_count": 30,
   "metadata": {},
   "outputs": [
    {
     "name": "stdout",
     "output_type": "stream",
     "text": [
      "Len TL =  20  Len TR =  20  Len CSF =  20\n"
     ]
    },
    {
     "data": {
      "text/html": [
       "<div>\n",
       "<style scoped>\n",
       "    .dataframe tbody tr th:only-of-type {\n",
       "        vertical-align: middle;\n",
       "    }\n",
       "\n",
       "    .dataframe tbody tr th {\n",
       "        vertical-align: top;\n",
       "    }\n",
       "\n",
       "    .dataframe thead th {\n",
       "        text-align: right;\n",
       "    }\n",
       "</style>\n",
       "<table border=\"1\" class=\"dataframe\">\n",
       "  <thead>\n",
       "    <tr style=\"text-align: right;\">\n",
       "      <th></th>\n",
       "      <th>TL</th>\n",
       "      <th>TR</th>\n",
       "      <th>CSF</th>\n",
       "    </tr>\n",
       "  </thead>\n",
       "  <tbody>\n",
       "    <tr>\n",
       "      <th>0</th>\n",
       "      <td>531111</td>\n",
       "      <td>543404</td>\n",
       "      <td>109776</td>\n",
       "    </tr>\n",
       "    <tr>\n",
       "      <th>1</th>\n",
       "      <td>545603</td>\n",
       "      <td>552216</td>\n",
       "      <td>107334</td>\n",
       "    </tr>\n",
       "    <tr>\n",
       "      <th>2</th>\n",
       "      <td>483107</td>\n",
       "      <td>490805</td>\n",
       "      <td>94254</td>\n",
       "    </tr>\n",
       "    <tr>\n",
       "      <th>3</th>\n",
       "      <td>558849</td>\n",
       "      <td>568830</td>\n",
       "      <td>67156</td>\n",
       "    </tr>\n",
       "    <tr>\n",
       "      <th>4</th>\n",
       "      <td>509945</td>\n",
       "      <td>518902</td>\n",
       "      <td>110114</td>\n",
       "    </tr>\n",
       "    <tr>\n",
       "      <th>5</th>\n",
       "      <td>538936</td>\n",
       "      <td>541024</td>\n",
       "      <td>112359</td>\n",
       "    </tr>\n",
       "    <tr>\n",
       "      <th>6</th>\n",
       "      <td>506151</td>\n",
       "      <td>516742</td>\n",
       "      <td>95073</td>\n",
       "    </tr>\n",
       "    <tr>\n",
       "      <th>7</th>\n",
       "      <td>457862</td>\n",
       "      <td>461817</td>\n",
       "      <td>81568</td>\n",
       "    </tr>\n",
       "    <tr>\n",
       "      <th>8</th>\n",
       "      <td>551654</td>\n",
       "      <td>570542</td>\n",
       "      <td>67376</td>\n",
       "    </tr>\n",
       "    <tr>\n",
       "      <th>9</th>\n",
       "      <td>482556</td>\n",
       "      <td>490654</td>\n",
       "      <td>56925</td>\n",
       "    </tr>\n",
       "    <tr>\n",
       "      <th>10</th>\n",
       "      <td>483496</td>\n",
       "      <td>488470</td>\n",
       "      <td>125867</td>\n",
       "    </tr>\n",
       "    <tr>\n",
       "      <th>11</th>\n",
       "      <td>373246</td>\n",
       "      <td>380492</td>\n",
       "      <td>53145</td>\n",
       "    </tr>\n",
       "    <tr>\n",
       "      <th>12</th>\n",
       "      <td>526596</td>\n",
       "      <td>543440</td>\n",
       "      <td>94317</td>\n",
       "    </tr>\n",
       "    <tr>\n",
       "      <th>13</th>\n",
       "      <td>468915</td>\n",
       "      <td>473350</td>\n",
       "      <td>61649</td>\n",
       "    </tr>\n",
       "    <tr>\n",
       "      <th>14</th>\n",
       "      <td>516579</td>\n",
       "      <td>519582</td>\n",
       "      <td>94632</td>\n",
       "    </tr>\n",
       "    <tr>\n",
       "      <th>15</th>\n",
       "      <td>467063</td>\n",
       "      <td>470488</td>\n",
       "      <td>71939</td>\n",
       "    </tr>\n",
       "    <tr>\n",
       "      <th>16</th>\n",
       "      <td>486629</td>\n",
       "      <td>495646</td>\n",
       "      <td>91674</td>\n",
       "    </tr>\n",
       "    <tr>\n",
       "      <th>17</th>\n",
       "      <td>557758</td>\n",
       "      <td>572435</td>\n",
       "      <td>79119</td>\n",
       "    </tr>\n",
       "    <tr>\n",
       "      <th>18</th>\n",
       "      <td>468971</td>\n",
       "      <td>476112</td>\n",
       "      <td>81441</td>\n",
       "    </tr>\n",
       "    <tr>\n",
       "      <th>19</th>\n",
       "      <td>512967</td>\n",
       "      <td>519178</td>\n",
       "      <td>105896</td>\n",
       "    </tr>\n",
       "  </tbody>\n",
       "</table>\n",
       "</div>"
      ],
      "text/plain": [
       "        TL      TR     CSF\n",
       "0   531111  543404  109776\n",
       "1   545603  552216  107334\n",
       "2   483107  490805   94254\n",
       "3   558849  568830   67156\n",
       "4   509945  518902  110114\n",
       "5   538936  541024  112359\n",
       "6   506151  516742   95073\n",
       "7   457862  461817   81568\n",
       "8   551654  570542   67376\n",
       "9   482556  490654   56925\n",
       "10  483496  488470  125867\n",
       "11  373246  380492   53145\n",
       "12  526596  543440   94317\n",
       "13  468915  473350   61649\n",
       "14  516579  519582   94632\n",
       "15  467063  470488   71939\n",
       "16  486629  495646   91674\n",
       "17  557758  572435   79119\n",
       "18  468971  476112   81441\n",
       "19  512967  519178  105896"
      ]
     },
     "execution_count": 30,
     "metadata": {},
     "output_type": "execute_result"
    }
   ],
   "source": [
    "csvfl=pd.read_csv(\"kirby21.csv\")\n",
    "\n",
    "# print(csvfl.head())\n",
    "\n",
    "# for r in range(len(csvfl)):\n",
    "#     if csvfl.iloc[r].roi in [\"Diencephalon_L\", \"Diencephalon_R\", \"CSF\"]:\n",
    "#         print(csvfl.iloc[r])\n",
    "\n",
    "\n",
    "TL =list(csvfl[csvfl.roi==\"Telencephalon_L\"].volume)\n",
    "TR =list(csvfl[csvfl.roi==\"Telencephalon_R\"].volume)\n",
    "CSF=list(csvfl[csvfl.roi==\"CSF\"].volume)\n",
    "\n",
    "#now we must get rid of the duplicates. Note, this assumes that all the valids are unique \n",
    "CSF=list(dict.fromkeys(CSF))\n",
    "\n",
    "print(\"Len TL = \", len(TL), \" Len TR = \", len(TR), \" Len CSF = \", len(CSF))\n",
    "\n",
    "dfdict = {\"TL\": TL, \"TR\": TR, \"CSF\": CSF}\n",
    "df = pd.DataFrame(dfdict)\n",
    "\n",
    "df"
   ]
  },
  {
   "cell_type": "code",
   "execution_count": 39,
   "metadata": {},
   "outputs": [
    {
     "name": "stdout",
     "output_type": "stream",
     "text": [
      "                    Results: Ordinary least squares\n",
      "=======================================================================\n",
      "Model:                OLS               Adj. R-squared:      0.170     \n",
      "Dependent Variable:   CSF               AIC:                 453.0221  \n",
      "Date:                 2019-09-27 16:12  BIC:                 456.0093  \n",
      "No. Observations:     20                Log-Likelihood:      -223.51   \n",
      "Df Model:             2                 F-statistic:         2.941     \n",
      "Df Residuals:         17                Prob (F-statistic):  0.0800    \n",
      "R-squared:            0.257             Scale:               3.5081e+08\n",
      "-----------------------------------------------------------------------\n",
      "             Coef.     Std.Err.     t    P>|t|     [0.025      0.975]  \n",
      "-----------------------------------------------------------------------\n",
      "Intercept -22868.5515 50978.2412 -0.4486 0.6594 -130423.2389 84686.1360\n",
      "TL             1.9498     1.0920  1.7854 0.0920      -0.3542     4.2537\n",
      "TR            -1.7003     1.0416 -1.6324 0.1210      -3.8979     0.4973\n",
      "-----------------------------------------------------------------------\n",
      "Omnibus:               0.023          Durbin-Watson:            2.521  \n",
      "Prob(Omnibus):         0.989          Jarque-Bera (JB):         0.228  \n",
      "Skew:                  -0.037         Prob(JB):                 0.892  \n",
      "Kurtosis:              2.482          Condition No.:            8735946\n",
      "=======================================================================\n",
      "* The condition number is large (9e+06). This might indicate\n",
      "strong multicollinearity or other numerical problems.\n",
      "87840.13949999999\n",
      "71939\n"
     ]
    }
   ],
   "source": [
    "results = smf.ols('CSF ~ TL + TR', data = df).fit()\n",
    "print(results.summary2())"
   ]
  },
  {
   "cell_type": "code",
   "execution_count": 41,
   "metadata": {},
   "outputs": [
    {
     "name": "stdout",
     "output_type": "stream",
     "text": [
      "Results for one sample:\n",
      "Prediction =  87840.13949999999\n",
      "Truth =  71939\n"
     ]
    }
   ],
   "source": [
    "print(\"Results for one sample:\")\n",
    "print(\"Prediction = \", 1.9498*467063+ -1*1.7003*470488-22868.5515)\n",
    "print(\"Truth = \", 71939)"
   ]
  },
  {
   "cell_type": "markdown",
   "metadata": {},
   "source": [
    "There are 3 coificients. TL describes how the CLF volume is related to the volume of TL (which is positivley correlated. Every volume the TL goes up the CLF goes up about 1.9. The TL coificient describes how every one the TR goes up the CLR goes down 1.7. The intercept says what the CLF volume would be if TL and TR were zero. Obvioulsy these numbers are a little questionable"
   ]
  },
  {
   "cell_type": "markdown",
   "metadata": {},
   "source": [
    "# Exercise 2"
   ]
  },
  {
   "cell_type": "code",
   "execution_count": 46,
   "metadata": {},
   "outputs": [
    {
     "name": "stdout",
     "output_type": "stream",
     "text": [
      "Quiz 4.pdf  binary.csv  kirby21.csv quiz4.ipynb\r\n"
     ]
    }
   ],
   "source": [
    "! if [ ! -e binary.csv ] ; \\\n",
    "  then wget https://stats.idre.ucla.edu/stat/data/binary.csv; \\\n",
    "fi\n",
    "!ls"
   ]
  },
  {
   "cell_type": "code",
   "execution_count": 47,
   "metadata": {},
   "outputs": [
    {
     "name": "stdout",
     "output_type": "stream",
     "text": [
      "   admit  gre   gpa  rank\n",
      "0      0  380  3.61     3\n",
      "1      1  660  3.67     3\n",
      "2      1  800  4.00     1\n",
      "3      1  640  3.19     4\n",
      "4      0  520  2.93     4\n"
     ]
    }
   ],
   "source": [
    "fl = pd.read_csv(\"binary.csv\")\n",
    "print(fl.head())"
   ]
  },
  {
   "cell_type": "code",
   "execution_count": 107,
   "metadata": {},
   "outputs": [
    {
     "name": "stdout",
     "output_type": "stream",
     "text": [
      "len x =  400  len y =  400\n"
     ]
    }
   ],
   "source": [
    "Y=list(fl.admit)\n",
    "\n",
    "X=list(map(lambda x: [x[0],x[1],x[2]], zip(list(fl.gre), list(fl.gpa), list(fl['rank']))))\n",
    "\n",
    "print(\"len x = \", len(X), \" len y = \", len(Y))\n",
    "\n",
    "#Display the first 3 example\n",
    "XY = list(zip(X, Y))\n",
    "\n",
    "#Shuffle the list\n",
    "random.shuffle(XY)\n",
    "\n",
    "#Take 75% for training and the remaing 25% for testing\n",
    "splt = int(.75*len(XY))\n",
    "XYtrain = XY[0:splt]\n",
    "XYtest = XY[splt:]\n",
    "\n",
    "#Unxip the data\n",
    "Xtrain, Ytrain = zip(*XYtrain)\n",
    "Xtest, Ytest = zip(*XYtest)"
   ]
  },
  {
   "cell_type": "code",
   "execution_count": 108,
   "metadata": {},
   "outputs": [
    {
     "name": "stdout",
     "output_type": "stream",
     "text": [
      "Training Accuracy =  0.7366666666666667\n",
      "Testing Accuracy  =  0.62\n"
     ]
    }
   ],
   "source": [
    "#Do the logistic regression\n",
    "lr = lm.LogisticRegression(solver='liblinear')\n",
    "fit = lr.fit(Xtrain, Ytrain)\n",
    "\n",
    "#Define a function to compute the accuacy of the fit model\n",
    "accr = lambda x, y: len(np.where(fit.predict(x)==np.array(y))[0])/len(y)\n",
    "\n",
    "print(\"Training Accuracy = \", accr(Xtrain, Ytrain))    \n",
    "print(\"Testing Accuracy  = \", accr(Xtest, Ytest))    "
   ]
  },
  {
   "cell_type": "code",
   "execution_count": 115,
   "metadata": {},
   "outputs": [
    {
     "name": "stdout",
     "output_type": "stream",
     "text": [
      "Frist Coef = 0.00127 Second Coef = 0.23243 Third Coef = -0.61779\n",
      "Intercept = -0.953\n"
     ]
    }
   ],
   "source": [
    "print(\"Frist Coef = {0:0.5f}\".format(fit.coef_[0][0]), \\\n",
    "        \"Second Coef = {0:0.5f}\".format(fit.coef_[0][1]), \\\n",
    "      \"Third Coef = {0:0.5f}\".format(fit.coef_[0][2]))\n",
    "\n",
    "print(\"Intercept = {0:0.3f}\".format(fit.intercept_[0]))"
   ]
  },
  {
   "cell_type": "markdown",
   "metadata": {},
   "source": [
    "The first coificient corresponds to the GRE score. It means if your GRE increases, your chances of getting in also increase. \n",
    "\n",
    "The second coificient corresponds to the GPA. It says that as your gpa increases, your chances of getting in also increase. The GPA matters more than the GRE becuase it is much greater, which makes sense because the GRE score is out of 800 points and the GPA is only out of 4. So an increase in 1pt GPA is more significant than 1pt GRE.\n",
    "\n",
    "The last coificient corresponds to the Rank. As your rank increases, your chances go down. This makes sense because a higher rank is worse than a lower one. \n",
    "\n",
    "The intercept doesnt tell us much because its the probability if GPA=GRE=Rank=0 which is impossible. "
   ]
  },
  {
   "cell_type": "code",
   "execution_count": 154,
   "metadata": {},
   "outputs": [
    {
     "data": {
      "image/png": "[encoded data removed]",
      "text/plain": [
       "<Figure size 432x288 with 1 Axes>"
      ]
     },
     "metadata": {},
     "output_type": "display_data"
    },
    {
     "data": {
      "image/png": "[encoded data removed]",
      "text/plain": [
       "<Figure size 432x288 with 1 Axes>"
      ]
     },
     "metadata": {},
     "output_type": "display_data"
    }
   ],
   "source": [
    "\n",
    "def anz_set(Xcurr, Ycurr, data_title):\n",
    "    #Make the predictions. preds holds the probability its a 1 (meaning an acceptance)\n",
    "    preds=fit.predict_proba(Xcurr)[:, 1]\n",
    "    Ycurr=np.array(Ycurr)\n",
    "    \n",
    "    #Define lists for the sensitivity and specificity\n",
    "    sens=[]\n",
    "    spes=[]\n",
    "    accu=[]\n",
    "    thrs=[]\n",
    "    \n",
    "    step_size = .001\n",
    "    for _thr in range(0, 1001):\n",
    "        thr=_thr/1000\n",
    "        thrs.append(thr)\n",
    "        \n",
    "        #compute the \n",
    "        tp=tn=fp=fn=0\n",
    "        for xx, yy in zip(preds, Ycurr):\n",
    "            if xx>thr and yy==1: tp+=1\n",
    "            elif xx<=thr and yy==0: tn+=1\n",
    "            elif xx>thr and yy==0: fp+=1\n",
    "            elif xx<=thr and yy==1: fn+=1\n",
    "        \n",
    "#         print(\"{}, {}, {}, {}\".format(tp, tn, fp, fn))\n",
    "        sens.append(float(tp)/(tp+tn))\n",
    "        spes.append(float(tn)/(tp+tn))\n",
    "        accu.append(float(tp+tn)/len(Ycurr))\n",
    "        \n",
    "    plt.figure()\n",
    "    plt.title(data_title)\n",
    "    plt.xlabel(\"threshold (prob value)\")\n",
    "    plt.ylabel(\"fraction (0->1)\")\n",
    "    plt.plot(thrs, sens)\n",
    "    plt.plot(thrs, spes)\n",
    "    plt.plot(thrs, accu)\n",
    "    plt.legend([\"Sensitivity\", \"Specificity\", \"Accuracy\"])\n",
    "    return sens, spes, accu\n",
    "    \n",
    "anz_set(Xtrain, Ytrain, \"Training Data\")\n",
    "anz_set(Xtest, Ytest, \"Testing Data\")\n",
    "\n",
    "x=0   \n"
   ]
  },
  {
   "cell_type": "markdown",
   "metadata": {},
   "source": [
    "# Question 3"
   ]
  },
  {
   "cell_type": "code",
   "execution_count": 170,
   "metadata": {},
   "outputs": [
    {
     "name": "stdout",
     "output_type": "stream",
     "text": [
      "Index(['Date', 'PH_morning', 'PH_midday', 'PH_evening', 'PH_avg', 'Ailment',\n",
      "       'Gym', 'Liquid', 'Lemon water', 'Tea(black/green)', 'Fruit tea',\n",
      "       'Water', 'Latte', 'Mineral water (Esentuki - 4)',\n",
      "       'Mineral water (Borjomi)', 'Mineral water (Prolom)', 'Tequila',\n",
      "       'Red wine', 'White wine', 'Strong alcohol', 'Beer', 'Morse', 'Milk',\n",
      "       'Orange juice', 'Oatmeal', 'Pizza with meat', 'Cheese Pizza',\n",
      "       'Cheesecakes', 'Scrambled eggs', 'Mayonnaise salad', 'Bread', 'Meat',\n",
      "       'Sauce', 'Cutlet', 'Sausage', 'Fish', 'Sushi', 'Cod liver', 'Cheese',\n",
      "       'Curd', 'Sour cream', 'Buckwheat porridge', 'Noodles with vegetables',\n",
      "       'Noodles with shrimp', 'Meat pilaf', 'Meatless pilaf',\n",
      "       'Pea soup with meat', 'Fried vegetables', 'Pyagse with vegetables',\n",
      "       'Dumplings with cabbage', 'Potato dumplings', 'Zucchini Fritters',\n",
      "       'Stewed cabbage', 'Solyanka with meat', 'Eggplant with cheese', 'Pasta',\n",
      "       'Fried potatoes', 'Cooked Potatoes', 'Braised Potatoes',\n",
      "       'Mashed potatoes', 'Apple Pie', 'Patty with cabbage', 'Curd Pie',\n",
      "       'Cheese Pie', 'Egg Pie', 'Potato pie', 'Meat pie', 'Khachapuri',\n",
      "       'The nuts', 'Pumpkin seeds', 'Raisins', 'Dried apricots',\n",
      "       'Vegetable salad', 'Eggplant caviar', 'The vinaigrette', 'Apple',\n",
      "       'Peach', 'Melon', 'Plum', 'Tangerines', 'Pear', 'Watermelon', 'Banana',\n",
      "       'Grapes', 'Pineapple', 'Orange', 'Paste', 'Kumquat', 'Ice cream',\n",
      "       'Cookie', 'Cake', 'Bun', 'Croissant', 'Chocolate', 'Candies', 'Halva',\n",
      "       'Marshmallow', 'Red caviar', 'Jelly'],\n",
      "      dtype='object')\n"
     ]
    }
   ],
   "source": [
    "pdth = pd.read_csv(\"ph_v1_days.csv\")\n",
    "\n",
    "print(pdth.keys())\n",
    "\n",
    "repl_nan = lambda x: list(map(lambda xx: 0 if math.isnan(xx) else xx, x))\n",
    "\n",
    "AVG_ph = repl_nan(pdth['PH_avg'])\n",
    "LIQUID = repl_nan(pdth['Liquid'])\n",
    "\n",
    "BEER = repl_nan(pdth['Beer'])\n",
    "MILK = repl_nan(pdth['Milk'])\n",
    "\n",
    "\n"
   ]
  },
  {
   "cell_type": "code",
   "execution_count": 171,
   "metadata": {},
   "outputs": [
    {
     "data": {
      "text/plain": [
       "<matplotlib.collections.PathCollection at 0x1a1fc8fb70>"
      ]
     },
     "execution_count": 171,
     "metadata": {},
     "output_type": "execute_result"
    },
    {
     "data": {
      "image/png": "[encoded data removed]",
      "text/plain": [
       "<Figure size 432x288 with 1 Axes>"
      ]
     },
     "metadata": {},
     "output_type": "display_data"
    },
    {
     "data": {
      "image/png": "[encoded data removed]",
      "text/plain": [
       "<Figure size 432x288 with 1 Axes>"
      ]
     },
     "metadata": {},
     "output_type": "display_data"
    },
    {
     "data": {
      "image/png": "[encoded data removed]",
      "text/plain": [
       "<Figure size 432x288 with 1 Axes>"
      ]
     },
     "metadata": {},
     "output_type": "display_data"
    }
   ],
   "source": [
    "plt.figure()\n",
    "plt.title(\"PH vs Liquid\")\n",
    "plt.xlabel(\"Liquid\")\n",
    "plt.ylabel(\"PH\")\n",
    "plt.scatter(LIQUID, AVG_ph)\n",
    "\n",
    "plt.figure()\n",
    "plt.title(\"PH vs BEER\")\n",
    "plt.xlabel(\"BEER\")\n",
    "plt.ylabel(\"PH\")\n",
    "plt.scatter(BEER, AVG_ph)\n",
    "\n",
    "plt.figure()\n",
    "plt.title(\"PH vs MILK\")\n",
    "plt.xlabel(\"MILK\")\n",
    "plt.ylabel(\"PH\")\n",
    "plt.scatter(MILK, AVG_ph)"
   ]
  },
  {
   "cell_type": "markdown",
   "metadata": {},
   "source": [
    "As you can see there are a ton of diffrent data on what the person has ate/drank over the course of the day. I predict that I will be able to predict the PH from what the person has drank. As seen, if the person has drank beer, it seems like their ph will be around 6. Whereas milk makes the person seem a bit dehydrated. Note: if the person has no data on drinking/eating a substance, i set it to zero. \n",
    "\n",
    "Idealy if everything works I will be able to predict ph, or dehydration if predicting the ph is too hard (a ph of less than 6.0). "
   ]
  },
  {
   "cell_type": "code",
   "execution_count": null,
   "metadata": {},
   "outputs": [],
   "source": []
  }
 ],
 "metadata": {
  "kernelspec": {
   "display_name": "Python 3",
   "language": "python",
   "name": "python3"
  },
  "language_info": {
   "codemirror_mode": {
    "name": "ipython",
    "version": 3
   },
   "file_extension": ".py",
   "mimetype": "text/x-python",
   "name": "python",
   "nbconvert_exporter": "python",
   "pygments_lexer": "ipython3",
   "version": "3.6.5"
  }
 },
 "nbformat": 4,
 "nbformat_minor": 2
}

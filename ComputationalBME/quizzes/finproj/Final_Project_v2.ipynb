{
 "cells": [
  {
   "cell_type": "code",
   "execution_count": 18,
   "metadata": {},
   "outputs": [],
   "source": [
    "import pandas as pd\n",
    "import numpy as np\n",
    "import math\n",
    "import random\n",
    "import scipy\n",
    "import statistics\n",
    "import statsmodels.formula.api as smf\n",
    "import sklearn.linear_model as lm\n",
    "\n",
    "import keras\n",
    "\n",
    "import matplotlib.pyplot as plt\n",
    "%matplotlib inline"
   ]
  },
  {
   "cell_type": "code",
   "execution_count": 2,
   "metadata": {},
   "outputs": [
    {
     "name": "stdout",
     "output_type": "stream",
     "text": [
      "'Final Project.ipynb'\t  HRDataset_v13.csv   winequality-red.csv\r\n",
      " Final_Project_v2.ipynb   ph_v1_days.csv\r\n"
     ]
    }
   ],
   "source": [
    "#Global Variables \n",
    "train_test_split = .8 #fraction of data to use for training\n",
    "\n",
    "!ls"
   ]
  },
  {
   "cell_type": "code",
   "execution_count": 19,
   "metadata": {},
   "outputs": [
    {
     "name": "stdout",
     "output_type": "stream",
     "text": [
      "   fixed acidity  volatile acidity  citric acid  residual sugar  chlorides  \\\n",
      "0            7.4              0.70         0.00             1.9      0.076   \n",
      "1            7.8              0.88         0.00             2.6      0.098   \n",
      "2            7.8              0.76         0.04             2.3      0.092   \n",
      "3           11.2              0.28         0.56             1.9      0.075   \n",
      "4            7.4              0.70         0.00             1.9      0.076   \n",
      "\n",
      "   free sulfur dioxide  total sulfur dioxide  density    pH  sulphates  \\\n",
      "0                 11.0                  34.0   0.9978  3.51       0.56   \n",
      "1                 25.0                  67.0   0.9968  3.20       0.68   \n",
      "2                 15.0                  54.0   0.9970  3.26       0.65   \n",
      "3                 17.0                  60.0   0.9980  3.16       0.58   \n",
      "4                 11.0                  34.0   0.9978  3.51       0.56   \n",
      "\n",
      "   alcohol  quality  \n",
      "0      9.4        5  \n",
      "1      9.8        5  \n",
      "2      9.8        5  \n",
      "3      9.8        6  \n",
      "4      9.4        5  \n",
      "Total Availible Keys:  12\n",
      "\n",
      "Pre Split Shapes:\n",
      "X shape = (1599, 11), Y shape = (1599,)\n",
      "\n",
      "Final Shapes:\n",
      "Shapes: X train = (1279, 11), Y train = (1279,)\n",
      "        X test  = (320, 11),  Y test  = (320,)\n"
     ]
    }
   ],
   "source": [
    "pdth = pd.read_csv(\"winequality-red.csv\")\n",
    "print(pdth.head())\n",
    "print(\"Total Availible Keys: \", len(pdth.keys()))\n",
    "\n",
    "repl_nan = lambda x: list(map(lambda xx: 0 if math.isnan(xx) else xx, x))\n",
    "\n",
    "qualtities = list(map(lambda x: int(x), repl_nan(pdth['quality'])))\n",
    "\n",
    "normalizers = {}\n",
    "for k in pdth.keys():\n",
    "    if k in [\"quality\"]:\n",
    "        continue\n",
    "    normalizers[k]=statistics.mean(repl_nan(list(map(lambda x: float(x), pdth[k]))))\n",
    "\n",
    "xs = []\n",
    "for k in pdth.keys():\n",
    "    if k in [\"quality\"]:\n",
    "        continue\n",
    "    xs.append(repl_nan(list(map(lambda x: float(x)/normalizers[k], pdth[k]))))\n",
    "    \n",
    "# Put the data into numpy arrays\n",
    "xs=np.transpose(np.array(xs))\n",
    "ys=np.array(qualtities)\n",
    "\n",
    "#Xshape = (num_samples, features), Yshape = (num_samples,)\n",
    "print(\"\\nPre Split Shapes:\")\n",
    "print(\"X shape = {}, Y shape = {}\".format(xs.shape, ys.shape))\n",
    "\n",
    "#Create a training and testing split\n",
    "\n",
    "#Zip the xs and ys together\n",
    "xsys = list(zip(xs, ys))\n",
    "\n",
    "#shuffle the combined list\n",
    "random.shuffle(xsys)\n",
    "\n",
    "#Unzip the shuffled list\n",
    "xs, ys = zip(*xsys)\n",
    "\n",
    "splt_ndx = int(len(xs)*train_test_split)\n",
    "\n",
    "xs_tr = np.array(xs[0:splt_ndx]); xs_ts = np.array(xs[splt_ndx:])\n",
    "ys_tr = np.array(ys[0:splt_ndx]); ys_ts = np.array(ys[splt_ndx:])\n",
    "\n",
    "#Print the final shapes\n",
    "print(\"\\nFinal Shapes:\")\n",
    "print(\"Shapes: X train = {}, Y train = {}\".format(xs_tr.shape, ys_tr.shape))\n",
    "print(\"        X test  = {},  Y test  = {}\".format(xs_ts.shape, ys_ts.shape))"
   ]
  },
  {
   "cell_type": "code",
   "execution_count": 4,
   "metadata": {},
   "outputs": [
    {
     "name": "stdout",
     "output_type": "stream",
     "text": [
      "Training Accuracy =  0.5949960906958561\n",
      "Testing  Accuracy =  0.559375\n",
      "[5 6 5 6 6 6 6 6 5 5 5 6 5 5 6 5 5 6 6 5 6 7 5 5 5 6 6 5 6 5 6 5 6 6 6 6 5\n",
      " 6 5 5 6 5 5 6 6 5 5 6 5 6 6 5 6 5 6 5 5 6 5 5 6 6 6 5 5 5 6 6 5 6 6 6 6 5\n",
      " 7 6 5 5 5 6 5 6 5 5 5 6 5 6 6 6 6 5 5 5 5 6 5 5 5 5]\n",
      "[5 6 6 5 5 6 6 7 6 5 6 6 5 6 5 4 6 6 6 6 7 7 5 5 4 7 6 5 6 4 6 6 7 5 6 6 6\n",
      " 6 7 5 6 6 5 8 7 5 3 7 4 6 6 5 5 6 6 5 5 6 5 5 6 7 6 4 6 6 7 7 5 6 6 6 6 5\n",
      " 7 6 5 5 5 6 5 6 5 4 5 4 5 6 7 5 6 5 5 5 6 5 5 5 5 5]\n"
     ]
    }
   ],
   "source": [
    "model_lr = lm.LogisticRegression(solver='liblinear')\n",
    "model_lr.fit(xs_tr, ys_tr)\n",
    "\n",
    "get_acc_lr = lambda x, y: len(np.where(model_lr.predict(x)==y)[0])/len(y)\n",
    "\n",
    "print(\"Training Accuracy = \", get_acc_lr(xs_tr, ys_tr))\n",
    "print(\"Testing  Accuracy = \", get_acc_lr(xs_ts, ys_ts))\n",
    "\n",
    "print(model_lr.predict(xs_tr)[0:100])\n",
    "print(ys_tr[0:100])"
   ]
  },
  {
   "cell_type": "code",
   "execution_count": 33,
   "metadata": {},
   "outputs": [
    {
     "name": "stdout",
     "output_type": "stream",
     "text": [
      "Training Accuracy =  0.890539483971853\n",
      "Testing  Accuracy =  0.85\n",
      "Training Accuracy (allowed 1 diffrence) =  0.9945269741985927\n",
      "Testing  Accuracy (allowed 1 diffrence) =  0.975\n"
     ]
    }
   ],
   "source": [
    "from keras.models import Sequential\n",
    "from keras.layers import Dense, Dropout\n",
    "\n",
    "\n",
    "# Make one hot encodings of the ys \n",
    "ys_tr_oh = np.zeros((len(ys_tr), 10))\n",
    "ys_ts_oh = np.zeros((len(ys_ts), 10))\n",
    "\n",
    "for i, n in enumerate(ys_tr):\n",
    "    ys_tr_oh[i, n-1]=1\n",
    "    \n",
    "for i, n in enumerate(ys_ts):\n",
    "    ys_ts_oh[i, n-1]=1\n",
    "\n",
    "hddn_units = 128\n",
    "model_ml = Sequential([\n",
    "    Dense(hddn_units, activation='relu'), \n",
    "    Dropout(.5),\n",
    "    Dense(hddn_units, activation='relu'), \n",
    "    Dropout(.5),\n",
    "    Dense(64, activation='relu'), \n",
    "    Dropout(.25),\n",
    "    Dense(10, activation='softmax')\n",
    "])\n",
    "model_ml.compile(optimizer='adam', loss='categorical_crossentropy')\n",
    "\n",
    "model_ml.fit(xs_tr, ys_tr_oh, epochs=500, verbose=0)\n",
    "\n",
    "\n",
    "def get_acc_ml(x, y, allow_diff=0):\n",
    "    preds = model_ml.predict(x)\n",
    "    crr=0\n",
    "    for xx, yy in zip(preds, y):\n",
    "        if (np.argmax(xx)-np.argmax(yy))<=allow_diff:\n",
    "            crr+=1\n",
    "        \n",
    "    \n",
    "    \n",
    "    return crr/len(y)\n",
    "\n",
    "print(\"Training Accuracy = \", get_acc_ml(xs_tr, ys_tr_oh))\n",
    "print(\"Testing  Accuracy = \", get_acc_ml(xs_ts, ys_ts_oh))\n",
    "\n",
    "print(\"Training Accuracy (allowed 1 diffrence) = \", get_acc_ml(xs_tr, ys_tr_oh, allow_diff=1))\n",
    "print(\"Testing  Accuracy (allowed 1 diffrence) = \", get_acc_ml(xs_ts, ys_ts_oh, allow_diff=1))\n",
    "\n"
   ]
  },
  {
   "cell_type": "code",
   "execution_count": 39,
   "metadata": {},
   "outputs": [
    {
     "name": "stdout",
     "output_type": "stream",
     "text": [
      "Training Accuracy (allowed 1 diffrence) =  1.0\n",
      "Testing  Accuracy (allowed 1 diffrence) =  1.0\n"
     ]
    }
   ],
   "source": [
    "print(\"Training Accuracy (allowed 1 diffrence) = \", get_acc_ml(xs_tr, ys_tr_oh, allow_diff=3))\n",
    "print(\"Testing  Accuracy (allowed 1 diffrence) = \", get_acc_ml(xs_ts, ys_ts_oh, allow_diff=3))"
   ]
  },
  {
   "cell_type": "code",
   "execution_count": null,
   "metadata": {},
   "outputs": [],
   "source": []
  }
 ],
 "metadata": {
  "kernelspec": {
   "display_name": "Python 3",
   "language": "python",
   "name": "python3"
  },
  "language_info": {
   "codemirror_mode": {
    "name": "ipython",
    "version": 3
   },
   "file_extension": ".py",
   "mimetype": "text/x-python",
   "name": "python",
   "nbconvert_exporter": "python",
   "pygments_lexer": "ipython3",
   "version": "3.6.9"
  }
 },
 "nbformat": 4,
 "nbformat_minor": 2
}

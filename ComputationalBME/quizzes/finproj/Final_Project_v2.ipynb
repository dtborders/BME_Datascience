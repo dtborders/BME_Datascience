{
 "cells": [
  {
   "cell_type": "code",
   "execution_count": 1,
   "metadata": {},
   "outputs": [
    {
     "name": "stderr",
     "output_type": "stream",
     "text": [
      "/Users/dannytb/anaconda3/lib/python3.6/site-packages/h5py/__init__.py:36: FutureWarning: Conversion of the second argument of issubdtype from `float` to `np.floating` is deprecated. In future, it will be treated as `np.float64 == np.dtype(float).type`.\n",
      "  from ._conv import register_converters as _register_converters\n",
      "Using TensorFlow backend.\n"
     ]
    }
   ],
   "source": [
    "import pandas as pd\n",
    "import numpy as np\n",
    "import math\n",
    "import random\n",
    "import scipy\n",
    "import statsmodels.formula.api as smf\n",
    "import sklearn.linear_model as lm\n",
    "\n",
    "import keras\n",
    "\n",
    "import matplotlib.pyplot as plt\n",
    "%matplotlib inline"
   ]
  },
  {
   "cell_type": "code",
   "execution_count": 24,
   "metadata": {},
   "outputs": [
    {
     "name": "stdout",
     "output_type": "stream",
     "text": [
      "Final Project.ipynb    \u001b[31mHRDataset_v13.csv\u001b[m\u001b[m      \u001b[31mwinequality-red.csv\u001b[m\u001b[m\r\n",
      "Final_Project_v2.ipynb ph_v1_days.csv\r\n"
     ]
    }
   ],
   "source": [
    "#Global Variables \n",
    "train_test_split = .8 #fraction of data to use for training\n",
    "\n",
    "!ls"
   ]
  },
  {
   "cell_type": "code",
   "execution_count": 28,
   "metadata": {},
   "outputs": [
    {
     "name": "stdout",
     "output_type": "stream",
     "text": [
      "   fixed acidity  volatile acidity  citric acid  residual sugar  chlorides  \\\n",
      "0            7.4              0.70         0.00             1.9      0.076   \n",
      "1            7.8              0.88         0.00             2.6      0.098   \n",
      "2            7.8              0.76         0.04             2.3      0.092   \n",
      "3           11.2              0.28         0.56             1.9      0.075   \n",
      "4            7.4              0.70         0.00             1.9      0.076   \n",
      "\n",
      "   free sulfur dioxide  total sulfur dioxide  density    pH  sulphates  \\\n",
      "0                 11.0                  34.0   0.9978  3.51       0.56   \n",
      "1                 25.0                  67.0   0.9968  3.20       0.68   \n",
      "2                 15.0                  54.0   0.9970  3.26       0.65   \n",
      "3                 17.0                  60.0   0.9980  3.16       0.58   \n",
      "4                 11.0                  34.0   0.9978  3.51       0.56   \n",
      "\n",
      "   alcohol  quality  \n",
      "0      9.4        5  \n",
      "1      9.8        5  \n",
      "2      9.8        5  \n",
      "3      9.8        6  \n",
      "4      9.4        5  \n",
      "Total Availible Keys:  12\n",
      "\n",
      "Pre Split Shapes:\n",
      "X shape = (1599, 11), Y shape = (1599,)\n",
      "\n",
      "Final Shapes:\n",
      "Shapes: X train = (1279, 11), Y train = (1279,)\n",
      "        X test  = (320, 11),  Y test  = (320,)\n"
     ]
    }
   ],
   "source": [
    "pdth = pd.read_csv(\"winequality-red.csv\")\n",
    "print(pdth.head())\n",
    "print(\"Total Availible Keys: \", len(pdth.keys()))\n",
    "\n",
    "repl_nan = lambda x: list(map(lambda xx: 0 if math.isnan(xx) else xx, x))\n",
    "\n",
    "qualtities = list(map(lambda x: int(x), repl_nan(pdth['quality'])))\n",
    "\n",
    "xs = []\n",
    "for k in pdth.keys():\n",
    "    if k in [\"quality\"]:\n",
    "        continue\n",
    "    xs.append(repl_nan(list(map(lambda x: float(x), pdth[k]))))\n",
    "    \n",
    "# Put the data into numpy arrays\n",
    "xs=np.transpose(np.array(xs))\n",
    "ys=np.array(qualtities)\n",
    "\n",
    "#Xshape = (num_samples, features), Yshape = (num_samples,)\n",
    "print(\"\\nPre Split Shapes:\")\n",
    "print(\"X shape = {}, Y shape = {}\".format(xs.shape, ys.shape))\n",
    "\n",
    "#Create a training and testing split\n",
    "\n",
    "#Zip the xs and ys together\n",
    "xsys = list(zip(xs, ys))\n",
    "\n",
    "#shuffle the combined list\n",
    "random.shuffle(xsys)\n",
    "\n",
    "#Unzip the shuffled list\n",
    "xs, ys = zip(*xsys)\n",
    "\n",
    "splt_ndx = int(len(xs)*train_test_split)\n",
    "\n",
    "xs_tr = np.array(xs[0:splt_ndx]); xs_ts = np.array(xs[splt_ndx:])\n",
    "ys_tr = np.array(ys[0:splt_ndx]); ys_ts = np.array(ys[splt_ndx:])\n",
    "\n",
    "#Print the final shapes\n",
    "print(\"\\nFinal Shapes:\")\n",
    "print(\"Shapes: X train = {}, Y train = {}\".format(xs_tr.shape, ys_tr.shape))\n",
    "print(\"        X test  = {},  Y test  = {}\".format(xs_ts.shape, ys_ts.shape))"
   ]
  },
  {
   "cell_type": "code",
   "execution_count": 31,
   "metadata": {},
   "outputs": [
    {
     "name": "stdout",
     "output_type": "stream",
     "text": [
      "Training Accuracy =  0.5957779515246286\n",
      "Testing  Accuracy =  0.56875\n",
      "[6 6 5 5 5 6 7 6 6 6 5 5 6 5 5 5 5 6 5 5 6 5 6 5 5 6 6 6 5 6 6 5 6 6 5 6 6\n",
      " 5 5 6 6 6 5 5 5 6 6 6 6 6 6 5 6 5 6 6 6 5 6 5 5 6 5 5 5 6 6 5 6 6 6 6 6 6\n",
      " 6 5 6 6 6 6 5 5 6 5 6 5 6 5 5 6 5 6 6 6 5 5 6 6 6 5]\n",
      "[6 5 5 5 5 5 6 7 6 7 6 5 7 5 5 6 6 7 6 6 6 5 6 5 5 5 6 7 4 6 6 5 6 6 5 5 6\n",
      " 5 6 6 7 5 5 5 5 6 6 6 7 7 6 6 7 5 7 6 6 5 5 5 6 6 5 5 5 8 6 5 6 6 6 5 6 6\n",
      " 6 5 6 6 6 6 6 5 6 5 7 5 5 5 5 6 5 6 6 6 7 6 6 6 7 5]\n"
     ]
    }
   ],
   "source": [
    "model_lr = lm.LogisticRegression(solver='liblinear')\n",
    "model_lr.fit(xs_tr, ys_tr)\n",
    "\n",
    "get_acc_lr = lambda x, y: len(np.where(model_lr.predict(x)==y)[0])/len(y)\n",
    "\n",
    "print(\"Training Accuracy = \", get_acc_lr(xs_tr, ys_tr))\n",
    "print(\"Testing  Accuracy = \", get_acc_lr(xs_ts, ys_ts))\n",
    "\n",
    "print(model_lr.predict(xs_tr)[0:100])\n",
    "print(ys_tr[0:100])"
   ]
  },
  {
   "cell_type": "code",
   "execution_count": 44,
   "metadata": {},
   "outputs": [
    {
     "name": "stdout",
     "output_type": "stream",
     "text": [
      "[[6.0130415]\n",
      " [6.094811 ]\n",
      " [5.0582004]\n",
      " [4.876585 ]\n",
      " [5.22621  ]]\n",
      "[6 5 5 5 5]\n",
      "[6.0130415 6.094811  5.0582004 4.876585  5.22621  ]\n",
      "[6 6 5 5 5]\n",
      "[6 5 5 5 5]\n",
      "Training Accuracy =  0.4331508991399531\n",
      "[6.214538  6.5077252 5.150707  5.375953  5.8831043]\n",
      "[6 7 5 5 6]\n",
      "[7 6 7 6 7]\n",
      "Testing  Accuracy =  0.434375\n"
     ]
    }
   ],
   "source": [
    "from keras.models import Sequential\n",
    "from keras.layers import Dense, Dropout\n",
    "\n",
    "hddn_units = 64\n",
    "model_ml = Sequential([\n",
    "    Dense(hddn_units, activation='relu'), \n",
    "    Dropout(.5),\n",
    "    Dense(1, activation='sigmoid')\n",
    "])\n",
    "model_ml.compile(optimizer='adam', loss='mse')\n",
    "\n",
    "model_ml.fit(xs_tr, ys_tr, epochs=10, verbose=0)\n",
    "\n",
    "print(model_ml.predict(xs_tr)[0:5])\n",
    "print(ys_tr[0:5])\n",
    "\n",
    "def get_acc_ml(x, y):\n",
    "    preds = model_ml.predict(x)[:, 0]\n",
    "    print(preds[0:5])\n",
    "    preds = np.array(list(map(lambda x: int(round(x)), preds)))\n",
    "    print(preds[0:5])\n",
    "    print(y[0:5])\n",
    "    \n",
    "    return len(np.where(preds==y)[0])/len(y)\n",
    "\n",
    "print(\"Training Accuracy = \", get_acc_ml(xs_tr, ys_tr))\n",
    "print(\"Testing  Accuracy = \", get_acc_ml(xs_ts, ys_ts))\n",
    "\n"
   ]
  },
  {
   "cell_type": "code",
   "execution_count": null,
   "metadata": {},
   "outputs": [],
   "source": []
  }
 ],
 "metadata": {
  "kernelspec": {
   "display_name": "Python 3",
   "language": "python",
   "name": "python3"
  },
  "language_info": {
   "codemirror_mode": {
    "name": "ipython",
    "version": 3
   },
   "file_extension": ".py",
   "mimetype": "text/x-python",
   "name": "python",
   "nbconvert_exporter": "python",
   "pygments_lexer": "ipython3",
   "version": "3.6.5"
  }
 },
 "nbformat": 4,
 "nbformat_minor": 2
}

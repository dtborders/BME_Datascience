{
 "cells": [
  {
   "cell_type": "code",
   "execution_count": 2,
   "metadata": {},
   "outputs": [],
   "source": [
    "import pandas as pd\n",
    "import numpy as np\n",
    "import math\n",
    "import random\n",
    "import scipy\n",
    "import statsmodels.formula.api as smf\n",
    "import sklearn.linear_model as lm\n",
    "\n",
    "import keras\n",
    "\n",
    "import matplotlib.pyplot as plt\n",
    "%matplotlib inline"
   ]
  },
  {
   "cell_type": "markdown",
   "metadata": {},
   "source": [
    "# Data analysis"
   ]
  },
  {
   "cell_type": "code",
   "execution_count": 39,
   "metadata": {},
   "outputs": [],
   "source": [
    "#Global Variables \n",
    "train_test_split = .8 #fraction of data to use for training"
   ]
  },
  {
   "cell_type": "markdown",
   "metadata": {},
   "source": [
    "# Model Fitting"
   ]
  },
  {
   "cell_type": "code",
   "execution_count": 82,
   "metadata": {},
   "outputs": [
    {
     "name": "stdout",
     "output_type": "stream",
     "text": [
      "Total Availible Keys:  99\n",
      "\n",
      "Pre Split Shapes:\n",
      "X shape = (212, 94), Y shape = (212,)\n",
      "\n",
      "Final Shapes:\n",
      "Shapes: X train = (169, 94), Y train = (169,)\n",
      "        X test  = (43, 94),  Y test  = (43,)\n",
      "[0.00e+00 1.00e+00 1.85e+03 2.50e+02 0.00e+00 6.00e+02 3.00e+02 0.00e+00\n",
      " 5.00e+02 0.00e+00 0.00e+00 0.00e+00 2.00e+02 0.00e+00 0.00e+00 0.00e+00\n",
      " 0.00e+00 0.00e+00 0.00e+00 0.00e+00 0.00e+00 0.00e+00 1.60e+02 0.00e+00\n",
      " 0.00e+00 1.50e+02 0.00e+00 0.00e+00 0.00e+00 0.00e+00 0.00e+00 0.00e+00\n",
      " 0.00e+00 0.00e+00 0.00e+00 0.00e+00 0.00e+00 0.00e+00 0.00e+00 0.00e+00\n",
      " 0.00e+00 0.00e+00 0.00e+00 0.00e+00 0.00e+00 0.00e+00 0.00e+00 0.00e+00\n",
      " 0.00e+00 0.00e+00 0.00e+00 0.00e+00 0.00e+00 1.40e+02 0.00e+00 0.00e+00\n",
      " 7.00e+01 0.00e+00 0.00e+00 0.00e+00 0.00e+00 0.00e+00 0.00e+00 5.00e+01\n",
      " 0.00e+00 0.00e+00 0.00e+00 1.50e+02 0.00e+00 0.00e+00 0.00e+00 0.00e+00\n",
      " 0.00e+00 5.00e+01 0.00e+00 0.00e+00 0.00e+00 1.00e+02 0.00e+00 0.00e+00\n",
      " 0.00e+00 5.00e+01 4.50e+01 6.00e+01 0.00e+00 0.00e+00 0.00e+00 0.00e+00\n",
      " 0.00e+00 0.00e+00 0.00e+00 0.00e+00 0.00e+00 0.00e+00]\n"
     ]
    }
   ],
   "source": [
    "pdth = pd.read_csv(\"ph_v1_days.csv\")\n",
    "# print(pdth.head())\n",
    "print(\"Total Availible Keys: \", len(pdth.keys()))\n",
    "\n",
    "repl_nan = lambda x: list(map(lambda xx: 0 if math.isnan(xx) else xx, x))\n",
    "\n",
    "AVG_ph = list(map(lambda x: 1 if x<6 else 0, repl_nan(pdth['PH_evening'])))\n",
    "\n",
    "xs = []\n",
    "for k in pdth.keys():\n",
    "    if k in [\"Date\", \"PH_morning\", \"PH_midday\", \"PH_evening\", \"PH_avg\"]:\n",
    "        continue\n",
    "    xs.append(repl_nan(pdth[k]))\n",
    "    \n",
    "# Put the data into numpy arrays\n",
    "xs=np.transpose(np.array(xs))\n",
    "ys=np.array(AVG_ph)\n",
    "\n",
    "#Xshape = (num_samples, features), Yshape = (num_samples,)\n",
    "print(\"\\nPre Split Shapes:\")\n",
    "print(\"X shape = {}, Y shape = {}\".format(xs.shape, ys.shape))\n",
    "\n",
    "#Create a training and testing split\n",
    "\n",
    "#Zip the xs and ys together\n",
    "xsys = list(zip(xs, ys))\n",
    "\n",
    "#shuffle the combined list\n",
    "random.shuffle(xsys)\n",
    "\n",
    "#Unzip the shuffled list\n",
    "xs, ys = zip(*xsys)\n",
    "\n",
    "splt_ndx = int(len(xs)*train_test_split)\n",
    "\n",
    "xs_tr = np.array(xs[0:splt_ndx]); xs_ts = np.array(xs[splt_ndx:])\n",
    "ys_tr = np.array(ys[0:splt_ndx]); ys_ts = np.array(ys[splt_ndx:])\n",
    "\n",
    "#Print the final shapes\n",
    "print(\"\\nFinal Shapes:\")\n",
    "print(\"Shapes: X train = {}, Y train = {}\".format(xs_tr.shape, ys_tr.shape))\n",
    "print(\"        X test  = {},  Y test  = {}\".format(xs_ts.shape, ys_ts.shape))\n",
    "\n",
    "print(xs_tr[0])"
   ]
  },
  {
   "cell_type": "code",
   "execution_count": 75,
   "metadata": {},
   "outputs": [
    {
     "name": "stdout",
     "output_type": "stream",
     "text": [
      "Training Accuracy =  1.0\n",
      "Testing  Accuracy =  0.46511627906976744\n",
      "[0 1 1 1 1]\n",
      "[0 1 1 1 1]\n"
     ]
    }
   ],
   "source": [
    "model_lr = lm.LogisticRegression(solver='liblinear')\n",
    "model_lr.fit(xs_tr, ys_tr)\n",
    "\n",
    "get_acc_lr = lambda x, y: len(np.where(model_lr.predict(x)==y)[0])/len(y)\n",
    "\n",
    "print(\"Training Accuracy = \", get_acc_lr(xs_tr, ys_tr))\n",
    "print(\"Testing  Accuracy = \", get_acc_lr(xs_ts, ys_ts))\n",
    "\n",
    "print(model_lr.predict(xs_tr)[0:5])\n",
    "print(ys_tr[0:5])\n"
   ]
  },
  {
   "cell_type": "code",
   "execution_count": 80,
   "metadata": {},
   "outputs": [
    {
     "data": {
      "text/plain": [
       "<keras.callbacks.History at 0x1a2ee09128>"
      ]
     },
     "execution_count": 80,
     "metadata": {},
     "output_type": "execute_result"
    }
   ],
   "source": [
    "from keras.models import Sequential\n",
    "from keras.layers import Dense, Dropout\n",
    "\n",
    "hddn_units = 64\n",
    "model_ml = Sequential([\n",
    "    Dense(hddn_units, activation='relu'), \n",
    "    Dropout(.5),\n",
    "    Dense(1, activation='sigmoid')\n",
    "])\n",
    "model_ml.compile(optimizer='adam', loss='mse')\n",
    "\n",
    "model_ml.fit(xs_tr, ys_tr, epochs=100, verbose=0)"
   ]
  },
  {
   "cell_type": "code",
   "execution_count": 81,
   "metadata": {},
   "outputs": [
    {
     "name": "stdout",
     "output_type": "stream",
     "text": [
      "Training Accuracy =  99.0\n",
      "Testing  Accuracy =  27.0\n"
     ]
    }
   ],
   "source": [
    "get_acc_ml = lambda x, y: len(np.where(model_ml.predict(x)==y)[0])/len(y)\n",
    "\n",
    "print(\"Training Accuracy = \", get_acc_ml(xs_tr, ys_tr))\n",
    "print(\"Testing  Accuracy = \", get_acc_ml(xs_ts, ys_ts))"
   ]
  },
  {
   "cell_type": "code",
   "execution_count": null,
   "metadata": {},
   "outputs": [],
   "source": []
  }
 ],
 "metadata": {
  "kernelspec": {
   "display_name": "Python 3",
   "language": "python",
   "name": "python3"
  },
  "language_info": {
   "codemirror_mode": {
    "name": "ipython",
    "version": 3
   },
   "file_extension": ".py",
   "mimetype": "text/x-python",
   "name": "python",
   "nbconvert_exporter": "python",
   "pygments_lexer": "ipython3",
   "version": "3.6.5"
  }
 },
 "nbformat": 4,
 "nbformat_minor": 2
}

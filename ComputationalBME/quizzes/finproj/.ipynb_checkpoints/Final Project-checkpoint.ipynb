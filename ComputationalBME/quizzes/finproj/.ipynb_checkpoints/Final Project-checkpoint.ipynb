{
 "cells": [
  {
   "cell_type": "code",
   "execution_count": 1,
   "metadata": {},
   "outputs": [],
   "source": [
    "import pandas as pd\n",
    "import numpy as np\n",
    "import math\n",
    "import random\n",
    "import scipy\n",
    "import statsmodels.formula.api as smf\n",
    "import sklearn.linear_model as lm\n",
    "\n",
    "import matplotlib.pyplot as plt\n",
    "%matplotlib inline"
   ]
  },
  {
   "cell_type": "markdown",
   "metadata": {},
   "source": [
    "# Data analysis"
   ]
  },
  {
   "cell_type": "code",
   "execution_count": null,
   "metadata": {},
   "outputs": [],
   "source": []
  },
  {
   "cell_type": "markdown",
   "metadata": {},
   "source": [
    "# Model Fitting"
   ]
  },
  {
   "cell_type": "code",
   "execution_count": 11,
   "metadata": {},
   "outputs": [
    {
     "name": "stdout",
     "output_type": "stream",
     "text": [
      "         Date  PH_morning  PH_midday  PH_evening  PH_avg  Ailment  Gym  \\\n",
      "0  06.09.2017        5.41       5.25        5.55    5.40      NaN  NaN   \n",
      "1  07.09.2017        7.06       5.70        5.32    6.03      NaN  1.0   \n",
      "2  08.09.2017        6.26       5.75        5.43    5.81      NaN  NaN   \n",
      "3  09.09.2017        5.35       6.85        6.09    6.10      NaN  NaN   \n",
      "4  10.09.2017        6.62       6.34        5.23    6.06      NaN  1.0   \n",
      "\n",
      "   Liquid  Lemon water  Tea(black/green)  ...    Cookie  Cake    Bun  \\\n",
      "0    1300        250.0               NaN  ...       NaN   NaN    NaN   \n",
      "1    1300        250.0               NaN  ...       NaN   NaN    NaN   \n",
      "2    1350        250.0               NaN  ...       NaN   NaN    NaN   \n",
      "3    2350        250.0               NaN  ...       NaN   NaN    NaN   \n",
      "4    1600        250.0               NaN  ...       NaN   NaN  150.0   \n",
      "\n",
      "   Croissant  Chocolate  Candies  Halva  Marshmallow  Red caviar  Jelly  \n",
      "0        NaN        NaN      NaN    NaN          NaN         NaN    NaN  \n",
      "1        NaN        NaN      NaN    NaN          NaN         NaN    NaN  \n",
      "2        NaN        NaN      NaN    NaN          NaN         NaN    NaN  \n",
      "3        NaN        NaN      NaN    NaN          NaN         NaN    NaN  \n",
      "4        NaN        NaN      NaN    NaN          NaN         NaN    NaN  \n",
      "\n",
      "[5 rows x 99 columns]\n",
      "Availible Keys:  99\n",
      "(94, 212)\n"
     ]
    }
   ],
   "source": [
    "pdth = pd.read_csv(\"ph_v1_days.csv\")\n",
    "print(pdth.head())\n",
    "print(\"Availible Keys: \", len(pdth.keys()))\n",
    "\n",
    "repl_nan = lambda x: list(map(lambda xx: 0 if math.isnan(xx) else xx, x))\n",
    "\n",
    "AVG_ph = repl_nan(pdth['PH_avg'])\n",
    "\n",
    "xs = []\n",
    "for k in pdth.keys():\n",
    "    if k in [\"Date\", \"PH_morning\", \"PH_midday\", \"PH_evening\", \"PH_avg\"]:\n",
    "        continue\n",
    "    xs.append(repl_nan(pdth[k]))\n",
    "    \n",
    "xs=np.array(xs)\n",
    "print(xs.shape)"
   ]
  },
  {
   "cell_type": "code",
   "execution_count": null,
   "metadata": {},
   "outputs": [],
   "source": []
  }
 ],
 "metadata": {
  "kernelspec": {
   "display_name": "Python 3",
   "language": "python",
   "name": "python3"
  },
  "language_info": {
   "codemirror_mode": {
    "name": "ipython",
    "version": 3
   },
   "file_extension": ".py",
   "mimetype": "text/x-python",
   "name": "python",
   "nbconvert_exporter": "python",
   "pygments_lexer": "ipython3",
   "version": "3.6.5"
  }
 },
 "nbformat": 4,
 "nbformat_minor": 2
}

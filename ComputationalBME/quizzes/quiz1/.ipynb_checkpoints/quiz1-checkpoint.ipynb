{
 "cells": [
  {
   "cell_type": "markdown",
   "metadata": {},
   "source": [
    "# Question 1\n",
    "\n",
    "$$\\sum_{i=1}^n (Y_i - \\beta_1 X_i1 - ... - \\beta_p X_ip)^2 $$\n",
    "<center> Since X_ik is zero for everything not in group k, we can split up the sum into groups because everything is zero for everything outside that group: </center>\n",
    "\n",
    "$$\\sum_{G1} (Y_i - \\beta_1 X_{i1})^2 + ... + \\sum_{Gp} (Y_i - \\beta_p X_{ip})^2$$\n",
    "\n",
    "<center> We are trying to minimize this so we just need to take the derivative with respect to each beta. Since they are broken into diffrent sums, if were were to differentiate with respect to beta 1 for example, all the other group sums would go to zero since there is no beta 1 in them. </center>\n",
    "<center> Therefore we can just take the derivative of a general beta (beta k for example) and it will represent any beta </center>\n",
    "\n",
    "$$d/d\\beta_k (\\sum_{Gk} (Y_i - \\beta_k X_{ik})^2) = 2*\\sum_{Gk} (Y_i - \\beta_k X_{ik}) = 0 $$\n",
    "\n",
    "<center> let n sub k represent the number in Gk </center>\n",
    "\n",
    "\n",
    "$$ (\\sum_{Gk} Y_i) - n_k*\\beta_k = 0 $$\n",
    "$$ n_k*\\bar{Y}^{(k)} - n_k*\\beta_k = 0 $$\n",
    "$$ \\bar{Y}^{(k)} = \\beta_k $$"
   ]
  },
  {
   "cell_type": "markdown",
   "metadata": {},
   "source": [
    "# Question 2"
   ]
  },
  {
   "cell_type": "code",
   "execution_count": 4,
   "metadata": {},
   "outputs": [
    {
     "name": "stdout",
     "output_type": "stream",
     "text": [
      "--2019-09-11 17:03:44--  https://raw.githubusercontent.com/bcaffo/ds4bme_intro/master/data/kirby21.csv\n",
      "Resolving raw.githubusercontent.com (raw.githubusercontent.com)... 151.101.200.133\n",
      "Connecting to raw.githubusercontent.com (raw.githubusercontent.com)|151.101.200.133|:443... connected.\n",
      "HTTP request sent, awaiting response... 200 OK\n",
      "Length: 1611966 (1.5M) [text/plain]\n",
      "Saving to: ‘kirby21.csv’\n",
      "\n",
      "kirby21.csv         100%[===================>]   1.54M  9.24MB/s    in 0.2s    \n",
      "\n",
      "2019-09-11 17:03:44 (9.24 MB/s) - ‘kirby21.csv’ saved [1611966/1611966]\n",
      "\n"
     ]
    }
   ],
   "source": [
    "! if [ ! -e kirby127a_3_1_ax_283Labels_M2_corrected_stats.csv ] ; \\\n",
    "  then wget https://raw.githubusercontent.com/bcaffo/ds4bme_intro/master/data/kirby21.csv; \\\n",
    "fi"
   ]
  },
  {
   "cell_type": "code",
   "execution_count": 28,
   "metadata": {},
   "outputs": [],
   "source": [
    "import pandas as pd\n",
    "csvfl=pd.read_csv(\"kirby21.csv\")\n",
    "\n",
    "import matplotlib.pyplot as plt\n",
    "%matplotlib inline\n",
    "\n",
    "import numpy as np\n",
    "\n",
    "TL=list(csvfl[csvfl.roi==\"Diencephalon_L\"].volume)\n",
    "TR=list(csvfl[csvfl.roi==\"Diencephalon_R\"].volume)\n",
    "\n"
   ]
  },
  {
   "cell_type": "code",
   "execution_count": 29,
   "metadata": {},
   "outputs": [],
   "source": [
    "def regress(X, Y):\n",
    "    \"\"\"\n",
    "    put in lists\n",
    "    \"\"\"\n",
    "    Ybar=sum(Y)/len(Y)\n",
    "    Xbar=sum(X)/len(X)\n",
    "\n",
    "    Bhat1=sum(list(map(lambda x: (x[1]-Ybar)*(x[0]-Xbar), zip(X,Y))))/sum(list(map(lambda x: (x-Xbar)**2, X)))\n",
    "    Bhat0=Ybar-Xbar*Bhat1\n",
    "    \n",
    "    return Bhat0, Bhat1"
   ]
  },
  {
   "cell_type": "code",
   "execution_count": 30,
   "metadata": {},
   "outputs": [
    {
     "name": "stdout",
     "output_type": "stream",
     "text": [
      "bhat0=1267.7478646599275, bhat1=0.8681422329073244\n"
     ]
    },
    {
     "data": {
      "text/plain": [
       "[<matplotlib.lines.Line2D at 0x102afdc18>]"
      ]
     },
     "execution_count": 30,
     "metadata": {},
     "output_type": "execute_result"
    },
    {
     "data": {
      "image/png": "[encoded data removed]",
      "text/plain": [
       "<Figure size 432x288 with 1 Axes>"
      ]
     },
     "metadata": {},
     "output_type": "display_data"
    }
   ],
   "source": [
    "Bhat0, Bhat1 = regress(TL,TR)\n",
    "print(\"bhat0={}, bhat1={}\".format(Bhat0, Bhat1))\n",
    "\n",
    "plt.figure()\n",
    "plt.xlabel(\"TL\")\n",
    "plt.ylabel(\"TR\")\n",
    "plt.title(\"TR vs. TL - my own functions\")\n",
    "plt.scatter(TL, TR)\n",
    "\n",
    "x_l=np.linspace(min(TL), max(TL), 1000)\n",
    "y_l=x_l*Bhat1+Bhat0\n",
    "plt.plot(x_l, y_l)"
   ]
  },
  {
   "cell_type": "markdown",
   "metadata": {},
   "source": [
    "# Exercise 3\n",
    "I propose using a convolutional neural network to predict the diffrent clothing types. Doing this project will develop the same skills as MNIST but introduce more challenge and give the ability to try more complicated networks"
   ]
  },
  {
   "cell_type": "code",
   "execution_count": null,
   "metadata": {},
   "outputs": [],
   "source": []
  }
 ],
 "metadata": {
  "kernelspec": {
   "display_name": "Python 3",
   "language": "python",
   "name": "python3"
  },
  "language_info": {
   "codemirror_mode": {
    "name": "ipython",
    "version": 3
   },
   "file_extension": ".py",
   "mimetype": "text/x-python",
   "name": "python",
   "nbconvert_exporter": "python",
   "pygments_lexer": "ipython3",
   "version": "3.6.5"
  }
 },
 "nbformat": 4,
 "nbformat_minor": 2
}

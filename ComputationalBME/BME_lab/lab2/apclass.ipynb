{
  "nbformat": 4,
  "nbformat_minor": 0,
  "metadata": {
    "kernelspec": {
      "display_name": "Python 3",
      "language": "python",
      "name": "python3"
    },
    "language_info": {
      "codemirror_mode": {
        "name": "ipython",
        "version": 3
      },
      "file_extension": ".py",
      "mimetype": "text/x-python",
      "name": "python",
      "nbconvert_exporter": "python",
      "pygments_lexer": "ipython3",
      "version": "3.6.8"
    },
    "colab": {
      "name": "apclass.ipynb",
      "provenance": [],
      "collapsed_sections": []
    }
  },
  "cells": [
    {
      "cell_type": "markdown",
      "metadata": {
        "id": "fAkLZ-j1ssFY",
        "colab_type": "text"
      },
      "source": [
        "# Classification of cardiomyocites based on their action potentials\n",
        "In this lab experience we will be looking at the problem of classifying cardiac cells by looking at\n",
        "their _Action Potentials_ (APs). For the purpose of this task we will be using synthetically\n",
        "generated APs following the models in [(Nygren et. al, 1998)](https://www.ahajournals.org/doi/abs/10.1161/01.res.82.1.63) and [(O'Hara et. al, 2011)](https://journals.plos.org/ploscompbiol/article?id=10.1371/journal.pcbi.1002061).\n",
        "\n",
        "### Objectives\n",
        "By the end of this session you should be able to use nearest-neighbor and simple neural network classifiers for two-class classification problems.\n",
        "\n",
        "* _Note: Everything below this line should be truned in as part of your lab report._\n"
      ]
    },
    {
      "cell_type": "code",
      "metadata": {
        "id": "Fmrnr_q2ssFc",
        "colab_type": "code",
        "outputId": "fbdded55-dff2-4749-8c59-0b2c6b2ebe77",
        "colab": {
          "base_uri": "https://localhost:8080/",
          "height": 209
        }
      },
      "source": [
        "# ============================================================================\n",
        "# import modules\n",
        "# ============================================================================\n",
        "# Note that this part of the code needs to be run prior to any other code cell\n",
        "\n",
        "import numpy as np\n",
        "import matplotlib.pyplot as plt\n",
        "import scipy.io\n",
        "import random as rnd\n",
        "import torch\n",
        "\n",
        "# inline plots\n",
        "%matplotlib inline\n",
        "\n",
        "# set random number generator seed\n",
        "rnd.seed(10)\n",
        "\n",
        "# mount GDrive\n",
        "from google.colab import drive\n",
        "drive.mount('gdrive/')\n",
        "\n",
        "# ============================================================================\n",
        "# data loading\n",
        "# ============================================================================\n",
        "\n",
        "# PLEASE, SPECIFY YOUR PATH TO THE DATA HERE\n",
        "datapath = 'gdrive/My Drive/bmdslab/lab-02/'\n",
        "\n",
        "# get the list of files to process\n",
        "matfile = ''.join((datapath,'Adult_samples.mat'))\n",
        "\n",
        "# get data as dictionary\n",
        "adata = scipy.io.loadmat(matfile)\n",
        "\n",
        "# see the keys of the dictionary 'Vatrial' and 'Vventricular'\n",
        "# adata['Vatrial'] contains action potentials of cardiac cells of atrial type\n",
        "# adata['Vventricular'] contains action potentials of cardiac cells of ventricular type\n",
        "adata.keys()\n"
      ],
      "execution_count": 1,
      "outputs": [
        {
          "output_type": "stream",
          "text": [
            "Go to this URL in a browser: https://accounts.google.com/o/oauth2/auth?client_id=947318989803-6bn6qk8qdgf4n4g3pfee6491hc0brc4i.apps.googleusercontent.com&redirect_uri=urn%3Aietf%3Awg%3Aoauth%3A2.0%3Aoob&scope=email%20https%3A%2F%2Fwww.googleapis.com%2Fauth%2Fdocs.test%20https%3A%2F%2Fwww.googleapis.com%2Fauth%2Fdrive%20https%3A%2F%2Fwww.googleapis.com%2Fauth%2Fdrive.photos.readonly%20https%3A%2F%2Fwww.googleapis.com%2Fauth%2Fpeopleapi.readonly&response_type=code\n",
            "\n",
            "Enter your authorization code:\n",
            "··········\n",
            "Mounted at gdrive/\n"
          ],
          "name": "stdout"
        },
        {
          "output_type": "execute_result",
          "data": {
            "text/plain": [
              "dict_keys(['__header__', '__version__', '__globals__', 'Vatrial', 'Vventricular'])"
            ]
          },
          "metadata": {
            "tags": []
          },
          "execution_count": 1
        }
      ]
    },
    {
      "cell_type": "code",
      "metadata": {
        "id": "uotMiceVssFm",
        "colab_type": "code",
        "outputId": "933559dc-5e36-49a5-d482-c6a88aebab94",
        "colab": {
          "base_uri": "https://localhost:8080/",
          "height": 334
        }
      },
      "source": [
        "# look at the data dimensions\n",
        "print(adata['Vatrial'].shape)\n",
        "print(adata['Vventricular'].shape)\n",
        "\n",
        "\n",
        "# let's see how the data looks like\n",
        "plt.plot(adata['Vatrial'][:,2])\n",
        "plt.plot(adata['Vventricular'][:,2])\n",
        "plt.legend(('atrial','ventricular'))\n",
        "plt.ylabel('Voltage [mV]')\n",
        "plt.xlabel('sample')"
      ],
      "execution_count": 2,
      "outputs": [
        {
          "output_type": "stream",
          "text": [
            "(347, 1000)\n",
            "(347, 1000)\n"
          ],
          "name": "stdout"
        },
        {
          "output_type": "execute_result",
          "data": {
            "text/plain": [
              "Text(0.5, 0, 'sample')"
            ]
          },
          "metadata": {
            "tags": []
          },
          "execution_count": 2
        },
        {
          "output_type": "display_data",
          "data": {
            "image/png": "[encoded data removed]",
            "text/plain": [
              "<Figure size 432x288 with 1 Axes>"
            ]
          },
          "metadata": {
            "tags": []
          }
        }
      ]
    },
    {
      "cell_type": "markdown",
      "metadata": {
        "collapsed": true,
        "id": "AxufV4_zssFv",
        "colab_type": "text"
      },
      "source": [
        "### Task 1. Pre-processing and manual feature extraction\n",
        "In this first part we will be normalizing the data and extracting hand-crafted features that will be later\n",
        "used for the classification task. Load the dataset **Adult_samples.mat** that contains examples of\n",
        "adult atrial and ventricular action potentials generated using the models in [(Nygren et al., 1998)](https://www.ahajournals.org/doi/abs/10.1161/01.res.82.1.63) and [(O'Hara et al., 2011)](https://journals.plos.org/ploscompbiol/article?id=10.1371/journal.pcbi.1002061).\n",
        "For each of the two classes there are $1000$ samples generated with a sampling rate of $f_s=500$ Hz.\n",
        "\n",
        "* _(15 points) Data preparation and normalization._\n",
        "Split the data between test and training sets by\n",
        "randomly selecting $10\\%$ of the points as your training set. Make sure the two classes are well represented\n",
        "in the training set (e.g., use the same number for both). Normalize the data so that each AP has zero resting potential and unit maximum amplitude. Create an array of corresponding labels for the data points. For ventricular type use the class label $+1$ and $-1$ for\n",
        "atrial type.\n",
        "Make two plots displaying your normalized training data for each of the classes. Use time units for the horizontal axis."
      ]
    },
    {
      "cell_type": "code",
      "metadata": {
        "id": "0PfklmNAssFz",
        "colab_type": "code",
        "outputId": "13f802e1-4305-48b5-9dc3-4949f6968b8c",
        "colab": {
          "base_uri": "https://localhost:8080/",
          "height": 590
        }
      },
      "source": [
        "at=np.array(adata['Vatrial'])\n",
        "vt=adata['Vventricular']\n",
        "\n",
        "def gen_train_test(currset, yval=1):\n",
        "  currset=np.transpose(currset)\n",
        "  np.random.shuffle(currset)\n",
        "  currset=np.transpose(currset)\n",
        "  \n",
        "  for x in range(currset.shape[1]):\n",
        "    minv = np.min(currset[:, x])\n",
        "    currset[:, x] = currset[:, x] - minv\n",
        "    currset[:, x] = currset[:, x]/np.max(currset[:, x])\n",
        "  \n",
        "  return currset[:, 0:100], currset[:, 100:], np.full((100), yval), np.full((900), yval)\n",
        "\n",
        "at_train, at_test, at_y_train, at_y_test = gen_train_test(at, yval=1)\n",
        "vt_train, vt_test, vt_y_train, vt_y_test = gen_train_test(vt, yval=-1)\n",
        "\n",
        "train_d = np.concatenate((at_train, vt_train), axis=1)\n",
        "test_d = np.concatenate((at_test, vt_test), axis=1)\n",
        "\n",
        "train_y = np.concatenate((at_y_train, vt_y_train))\n",
        "test_y = np.concatenate((at_y_test, vt_y_test))\n",
        "\n",
        "plt.figure()\n",
        "plt.title(\"Vatrial\")\n",
        "plt.plot(train_d[:,6])\n",
        "plt.xlabel(\"sample\")\n",
        "plt.ylabel(\"voltage-normalized\")\n",
        "\n",
        "plt.figure()\n",
        "plt.title(\"Vventricular\")\n",
        "plt.xlabel(\"sample\")\n",
        "plt.ylabel(\"voltage-normalized\")\n",
        "plt.plot(train_d[:, 105])\n",
        "\n"
      ],
      "execution_count": 3,
      "outputs": [
        {
          "output_type": "execute_result",
          "data": {
            "text/plain": [
              "[<matplotlib.lines.Line2D at 0x7fd764b98358>]"
            ]
          },
          "metadata": {
            "tags": []
          },
          "execution_count": 3
        },
        {
          "output_type": "display_data",
          "data": {
            "image/png": "[encoded data removed]",
            "text/plain": [
              "<Figure size 432x288 with 1 Axes>"
            ]
          },
          "metadata": {
            "tags": []
          }
        },
        {
          "output_type": "display_data",
          "data": {
            "image/png": "[encoded data removed]",
            "text/plain": [
              "<Figure size 432x288 with 1 Axes>"
            ]
          },
          "metadata": {
            "tags": []
          }
        }
      ]
    },
    {
      "cell_type": "markdown",
      "metadata": {
        "id": "s_RCGDa54RNp",
        "colab_type": "text"
      },
      "source": [
        ""
      ]
    },
    {
      "cell_type": "markdown",
      "metadata": {
        "id": "3w8Nzv_mssF5",
        "colab_type": "text"
      },
      "source": [
        "* _(20 points) Hand-crafted features._\n",
        "The _Action Potential Duration_ (APD) at $x\\%$ is defined as the time\n",
        "it takes to reduce the maximum amplitude of the AP to $x\\%$ of its value. Write a function that computes APD at a given\n",
        "percentage $x\\in[0,1]$. Compute also the _Average of the Action Potential_ (AAP) and build two-dimensional features\n",
        "by concatenating APD@$0.5$ and AAP. Make a scatter plot of the training data using these two features. Use\n",
        "different colors and/or markers to represent each class.\n",
        "\n",
        "    * Based on your scatter plot, is the training data using the above features linearly separable? Why?"
      ]
    },
    {
      "cell_type": "code",
      "metadata": {
        "id": "R8_9GIz4ssF7",
        "colab_type": "code",
        "outputId": "34df9fc4-9bf5-4110-fa9c-54624f951483",
        "colab": {
          "base_uri": "https://localhost:8080/",
          "height": 312
        }
      },
      "source": [
        "# ============================================================================\n",
        "# compute hand-crafted features such as APA and APDx\n",
        "# ============================================================================\n",
        "\n",
        "def apdx(X,alpha=0.5,fs=1.0):\n",
        "    \"\"\"\n",
        "    This function computes the APDx feature defined as the time it takes to\n",
        "    reduce the action potential to x% of its maximum value.\n",
        "    Use:\n",
        "        APD = apdx(X,alpha,fs)\n",
        "        \n",
        "    Inputs:\n",
        "        X : data points (each column is a data point)\n",
        "        alpha : [0,1] percentage of maximum amplitude\n",
        "        fs : sampling frequency (to map samples to time)\n",
        "        \n",
        "    Output:\n",
        "        APD feature\n",
        "    \"\"\"\n",
        "\n",
        "    i=np.argmax(X)\n",
        "    \n",
        "    while X[i]>alpha:\n",
        "      i+=1\n",
        "      \n",
        "    return float(i)/fs\n",
        "\n",
        "\n",
        "def gen_features(dset):\n",
        "  outset=np.zeros((2, dset.shape[1]))\n",
        "  for i in range(dset.shape[1]):\n",
        "    adx = apdx(dset[:, i], fs=500)\n",
        "    men = np.average(dset[:, i])\n",
        "    outset[0, i] = adx\n",
        "    outset[1, i] = men\n",
        "  return outset\n",
        "    \n",
        "train_d_feat = gen_features(train_d)\n",
        "test_d_feat = gen_features(test_d)\n",
        "\n",
        "plt.figure()\n",
        "plt.scatter(train_d_feat[0, np.where(train_y==1)], train_d_feat[1, np.where(train_y==1)], color='red')\n",
        "plt.scatter(train_d_feat[0, np.where(train_y==-1)], train_d_feat[1, np.where(train_y==-1)], color='blue')\n",
        "plt.title(\"Mean vs ADP\")\n",
        "plt.xlabel(\"ADP (s)\")\n",
        "plt.ylabel(\"Mean of Signal\")"
      ],
      "execution_count": 4,
      "outputs": [
        {
          "output_type": "execute_result",
          "data": {
            "text/plain": [
              "Text(0, 0.5, 'Mean of Signal')"
            ]
          },
          "metadata": {
            "tags": []
          },
          "execution_count": 4
        },
        {
          "output_type": "display_data",
          "data": {
            "image/png": "[encoded data removed]",
            "text/plain": [
              "<Figure size 432x288 with 1 Axes>"
            ]
          },
          "metadata": {
            "tags": []
          }
        }
      ]
    },
    {
      "cell_type": "markdown",
      "metadata": {
        "id": "DqRlZQcN7-LN",
        "colab_type": "text"
      },
      "source": [
        "# Answer\n",
        "The data is linearly seperable because there are clearly 2 clusters of the same points. "
      ]
    },
    {
      "cell_type": "markdown",
      "metadata": {
        "id": "bDwRokJOssGA",
        "colab_type": "text"
      },
      "source": [
        "### Task 2. Classification\n",
        "\n",
        "* _(15 points) Nearest-neighbor classifier._\n",
        "Implement a $1$NN classifier using the Euclidean distance. A $1$NN classifier works as follows: Given your training dataset $\\mathcal{D} = \\big\\{(\\boldsymbol x_i,y_i)\\big\\}_{i=1}^{N}$,where $N$ is the number of training samples, $\\boldsymbol x_i\\in\\mathbb{R}^D$ is a feature vector and $y_i\\in\\{-1,1\\}$ its associated label, and a novel sample $\\boldsymbol x$, the $1$NN classifier assigns to $\\boldsymbol x$ the same label as its closest point in the training set. That is, the estimated label $\\widehat y$ of $\\boldsymbol x$ is such that:\n",
        "\n",
        "\\begin{equation}\n",
        "\t\\widehat y(\\boldsymbol x) = y_{k^*},\\quad k^* = \\underset{i\\in\\{1,\\ldots,N\\}}{\\arg\\min}\\, \\lVert \\boldsymbol x_i - \\boldsymbol x \\rVert_2.\n",
        "\\end{equation}\n",
        "\n",
        "Compute and display the classification accuracy over the test set using the handcrafted training features of **Task 1**."
      ]
    },
    {
      "cell_type": "code",
      "metadata": {
        "id": "cNV0DvYCssGB",
        "colab_type": "code",
        "outputId": "b61b64a6-fa79-47b9-a536-f9d7ee2abe1e",
        "colab": {
          "base_uri": "https://localhost:8080/",
          "height": 34
        }
      },
      "source": [
        "# ============================================================================\n",
        "# Nearest-neighbor classifier\n",
        "# ============================================================================\n",
        "\n",
        "def nn_classify(Xtest,Xtrain,ytrain):\n",
        "    \"\"\"\n",
        "    This function implements a nearest neighbor classifier.\n",
        "    Use:\n",
        "        yhat = nn_classify(Xtest,Xtrain,ytrain)\n",
        "        \n",
        "    Inputs:\n",
        "        Xtest  : test data points (each column is a data point)\n",
        "        Xtrain : training data points\n",
        "        ytrain : associated labels to the training data points\n",
        "        \n",
        "    Output:\n",
        "        yhat : estimated labels for the test data.\n",
        "\n",
        "    \"\"\"\n",
        "    res=np.zeros(Xtest.shape[1])\n",
        "    for i in range(Xtest.shape[1]):\n",
        "      minnorm = None\n",
        "      mink = None\n",
        "      for j in range(Xtrain.shape[1]):\n",
        "        norm = np.linalg.norm(Xtest[:, i]-Xtrain[:, j])\n",
        "        if minnorm is None or norm < minnorm:\n",
        "          minnorm = norm\n",
        "          mink = j\n",
        "      res[i]=ytrain[mink]\n",
        "    return res\n",
        "\n",
        "\n",
        "print(\"testing accuracy = \", int(len(np.where(nn_classify(test_d_feat, train_d_feat, train_y)==test_y)[0])/len(test_y)*100), \"%\")\n",
        "    \n",
        "    "
      ],
      "execution_count": 5,
      "outputs": [
        {
          "output_type": "stream",
          "text": [
            "testing accuracy =  100 %\n"
          ],
          "name": "stdout"
        }
      ]
    },
    {
      "cell_type": "markdown",
      "metadata": {
        "id": "QOoaBjmM_IfW",
        "colab_type": "text"
      },
      "source": [
        ""
      ]
    },
    {
      "cell_type": "markdown",
      "metadata": {
        "id": "sdWb1xeBssGE",
        "colab_type": "text"
      },
      "source": [
        "* _(40 points) Two-layer Neural Network._\n",
        " Implement a two-layer neural network classifier of the form:\n",
        "\n",
        "   $$\\widehat y = \\operatorname{sign}\\big(f_{\\theta}(\\phi(\\boldsymbol x))\\big),\\quad f_{\\theta}(\\phi(\\boldsymbol x)) = \\boldsymbol w^T\\phi(\\boldsymbol x) + b,\\quad \\theta = \\left[\\begin{array}{c}\\boldsymbol w\\\\b\\end{array}\\right],$$\n",
        "  \n",
        " where $f_\\theta(\\cdot)$ is a _linear prediction function_ (i.e., classification layer) parametrized by $\\theta = [\\boldsymbol w^T, b]^T$. The feature extraction part of the network consists of a linear layer followed by a ReLu (rectified linear unit) non-linearity:\n",
        " \n",
        " $$ \\phi(x) = \\operatorname{ReLu}\\big(\\boldsymbol W_1 \\boldsymbol x + \\boldsymbol b_1\\big),\\quad\\operatorname{ReLu}(x)=\\begin{cases}x &x>0\\\\0&\\textrm{else}\\end{cases}.$$\n",
        " \n",
        " In order to find the network's parameters $\\Theta=\\{\\boldsymbol W_1, \\boldsymbol b_1, \\boldsymbol w, b\\}$ minimize the following _regularized empirical risk_ using PyTorch:\n",
        "\n",
        "   $$\\min_{\\Theta}\\, \\underbrace{\\frac{1}{N} \\sum_{i=1}^N L\\big(f_\\theta(\\phi(\\boldsymbol x_i)),y_i\\big) + \\lambda\\big(\\frac{1}{w}\\lVert \\boldsymbol w\\rVert^2 + \\frac{1}{W}\\lVert\\boldsymbol W_1\\rVert^2\\big)}_{C(\\Theta)}$$\n",
        "    \n",
        " where the loss function $L(f, y) = \\lVert y-f\\rVert_2^2)$ is the quadratic (square) loss, and $w,W$, are the number of elements in $\\boldsymbol w$ and $\\boldsymbol W$, respectively. \n",
        "\n",
        "    * Define a network model in PyTorch according to the definition above. For that purpose you can use `torch.nn.Sequential`. Follow this [example](https://pytorch.org/tutorials/beginner/pytorch_with_examples.html#pytorch-nn) to learn how to use it.\n",
        "    \n",
        "    * Run a gradient descent algorithm to minimize the cost function using $\\lambda =1$. Carefully choose the stepsize and number of iterations until you see the method converges (i.e., the cost function gets to a \"plateau\").\n",
        "    \n",
        "    * Make a scatter plot of the learned features (i.e., prior to classificaiton layer) by your network model. Has your model learned features that are linearly separable? Display in the scatter plot the decision boundary that you have learned. Compute the classification accuracy over the test set.\n",
        "    \n",
        "    * Plot the weights of the learned linear layer. What has your network learned?\n",
        "\n"
      ]
    },
    {
      "cell_type": "code",
      "metadata": {
        "id": "RyS6hPQrD2zw",
        "colab_type": "code",
        "colab": {}
      },
      "source": [
        "#Make our model\n",
        "hidden_features=2\n",
        "model = torch.nn.Sequential(torch.nn.Linear(in_features=2, out_features=hidden_features, bias=True),\n",
        "                            torch.nn.ReLU(),\n",
        "                            torch.nn.Linear(in_features=hidden_features, out_features=1, bias=True))"
      ],
      "execution_count": 0,
      "outputs": []
    },
    {
      "cell_type": "code",
      "metadata": {
        "id": "pfnlGOjEssGE",
        "colab_type": "code",
        "outputId": "1143c28a-c612-4e3a-cd52-697186a3fa44",
        "colab": {
          "base_uri": "https://localhost:8080/",
          "height": 300
        }
      },
      "source": [
        "losses=[]\n",
        "\n",
        "cuttoff = 0.00001\n",
        "\n",
        "lr=.01\n",
        "lmda=1\n",
        "\n",
        "x_train_torch = torch.from_numpy(np.transpose(train_d_feat)).float()\n",
        "y_train_torch = torch.from_numpy(train_y).float().unsqueeze(-1)\n",
        "\n",
        "x_test_torch = torch.from_numpy(np.transpose(test_d_feat)).float()\n",
        "y_test_torch = torch.from_numpy(test_y).float().unsqueeze(-1)\n",
        "\n",
        "criterion = torch.nn.MSELoss()\n",
        "\n",
        "def loss_function(xa, ya, cmodel):\n",
        "  loss_pt1 = criterion(xa, ya)\n",
        "  loss_pt2=0\n",
        "  for param in cmodel.parameters():\n",
        "    loss_pt2+=torch.pow(torch.norm(param), 2)/param.numel()\n",
        "  return loss_pt1+loss_pt2\n",
        "\n",
        "while len(losses) <= 2 or abs(losses[-1]-losses[-2])>cuttoff:\n",
        "  closs = loss_function(model(x_train_torch), y_train_torch, model)\n",
        "  losses.append(closs.item())\n",
        "  \n",
        "  #zero out the gradients \n",
        "  model.zero_grad()\n",
        "  \n",
        "  #compute the gradients\n",
        "  closs.backward()\n",
        "  \n",
        "  #Update all the parameters with their new values\n",
        "  with torch.no_grad():\n",
        "    for param in model.parameters():\n",
        "      param -= lr*param.grad\n",
        "\n",
        "#Plot the losses\n",
        "plt.figure(\"Losses over time\")\n",
        "plt.xlabel(\"epochs\")\n",
        "plt.ylabel(\"loss\")\n",
        "plt.plot(losses)"
      ],
      "execution_count": 22,
      "outputs": [
        {
          "output_type": "execute_result",
          "data": {
            "text/plain": [
              "[<matplotlib.lines.Line2D at 0x7fd763797cc0>]"
            ]
          },
          "metadata": {
            "tags": []
          },
          "execution_count": 22
        },
        {
          "output_type": "display_data",
          "data": {
            "image/png": "[encoded data removed]",
            "text/plain": [
              "<Figure size 432x288 with 1 Axes>"
            ]
          },
          "metadata": {
            "tags": []
          }
        }
      ]
    },
    {
      "cell_type": "code",
      "metadata": {
        "id": "g_6shV4znGiU",
        "colab_type": "code",
        "outputId": "89ff5474-efbe-42af-eb7c-c9617a47f476",
        "colab": {
          "base_uri": "https://localhost:8080/",
          "height": 51
        }
      },
      "source": [
        "def get_acc(x_c, truth_c):\n",
        "  pred_c = model(x_c)\n",
        "  ccc=0\n",
        "  for i, j in zip(pred_c, truth_c):\n",
        "#     print(\"{}, {}\".format(-1 if i.detach().numpy()[0]<0 else 1, j.detach().numpy()[0]))\n",
        "    if (-1 if i.detach().numpy()[0]<0 else 1) == j.detach().numpy()[0]:\n",
        "      ccc+=1\n",
        "  return ccc/len(truth_c.detach().numpy())\n",
        "\n",
        "print(\"Training Accuracy = \", get_acc(x_train_torch, y_train_torch)*100, \"%\")\n",
        "print(\"Testing  Accuracy = \", get_acc(x_test_torch, y_test_torch)*100, \"%\")"
      ],
      "execution_count": 23,
      "outputs": [
        {
          "output_type": "stream",
          "text": [
            "Training Accuracy =  100.0 %\n",
            "Testing  Accuracy =  100.0 %\n"
          ],
          "name": "stdout"
        }
      ]
    },
    {
      "cell_type": "code",
      "metadata": {
        "id": "N55ANfitBcZq",
        "colab_type": "code",
        "outputId": "5fe576ab-4d22-4a2f-994d-9ec02e85d5d9",
        "colab": {
          "base_uri": "https://localhost:8080/",
          "height": 312
        }
      },
      "source": [
        "linear_layer_1=list(model.modules())[1]\n",
        "train_features=np.transpose(linear_layer_1(x_train_torch).detach().numpy())\n",
        "\n",
        "plt.figure()\n",
        "plt.scatter(train_features[0, np.where(train_y==1)], train_features[1, np.where(train_y==1)], color='red')\n",
        "plt.scatter(train_features[0, np.where(train_y==-1)], train_features[1, np.where(train_y==-1)], color='blue')\n",
        "plt.title(\"Features Learned By NN\")\n",
        "plt.xlabel(\"Feature 1\")\n",
        "plt.ylabel(\"Feature 2\")"
      ],
      "execution_count": 24,
      "outputs": [
        {
          "output_type": "execute_result",
          "data": {
            "text/plain": [
              "Text(0, 0.5, 'Feature 2')"
            ]
          },
          "metadata": {
            "tags": []
          },
          "execution_count": 24
        },
        {
          "output_type": "display_data",
          "data": {
            "image/png": "[encoded data removed]",
            "text/plain": [
              "<Figure size 432x288 with 1 Axes>"
            ]
          },
          "metadata": {
            "tags": []
          }
        }
      ]
    },
    {
      "cell_type": "markdown",
      "metadata": {
        "id": "4OWt6ye5Rm_n",
        "colab_type": "text"
      },
      "source": [
        "# Answer\n",
        "Our model has learned linealy seperable featues."
      ]
    },
    {
      "cell_type": "code",
      "metadata": {
        "id": "hW5a8kNaGuX6",
        "colab_type": "code",
        "outputId": "7fead149-f30a-4444-b00e-949d31074380",
        "colab": {
          "base_uri": "https://localhost:8080/",
          "height": 607
        }
      },
      "source": [
        "linear_layer_1=list(model.modules())[1]\n",
        "relu_layer=list(model.modules())[2]\n",
        "train_features=np.transpose(relu_layer(linear_layer_1(x_train_torch)).detach().numpy())\n",
        "\n",
        "line_sep=list(model.modules())[3]\n",
        "line_weig=np.array(line_sep.weight.detach())\n",
        "line_bias=np.array(line_sep.bias.detach())\n",
        "\n",
        "linx = np.linspace(np.min(train_features[0, :]), np.max(train_features[0, :]), num=30)\n",
        "\n",
        "y = (linx*line_weig[0, 0]+line_bias)/line_weig[0, 1]\n",
        "#This line predicts -1 if its less than zero and one if its greater than zero, so we simply need to find where this is zero\n",
        "\n",
        "xdiv = -1*line_bias/line_weig[0, 0]\n",
        "#This is the vertical line that acts as the decision boundary\n",
        "\n",
        "liny = np.linspace(np.min(train_features[1, :]), np.max(train_features[1, :]), num=30)\n",
        "\n",
        "x = (liny*line_weig[0, 1]+line_bias)/line_weig[0, 0]\n",
        "#This line predicts -1 if its less than zero and one if its greater than zero, so we simply need to find where this is zero\n",
        "\n",
        "ydiv = -1*line_bias/line_weig[0, 1]\n",
        "#This is the vertical line that acts as the decision boundary\n",
        "\n",
        "print(\"Learned Linear Weights = \", line_weig, \", Learned Linear Bias = \", line_bias)\n",
        "\n",
        "plt.figure()\n",
        "plt.scatter(train_features[0, np.where(train_y==1)], train_features[1, np.where(train_y==1)], color='red')\n",
        "plt.scatter(train_features[0, np.where(train_y==-1)], train_features[1, np.where(train_y==-1)], color='blue')\n",
        "\n",
        "plt.plot(linx, y, color=\"red\")\n",
        "plt.axvline(x=xdiv, color = \"red\")\n",
        "\n",
        "plt.plot(x, liny, color=\"green\")\n",
        "plt.axhline(y=xdiv, color = \"green\")\n",
        "\n",
        "plt.title(\"Features Learned By NN (Train_Set)\")\n",
        "plt.xlabel(\"Feature 1\")\n",
        "plt.ylabel(\"Feature 2\")\n",
        "plt.legend([\"Last Layer Output\", \"Decision Boundary\"])\n",
        "\n",
        "plt.figure()\n",
        "plt.scatter(test_features[0, np.where(test_y==1)], test_features[1, np.where(test_y==1)], color='red')\n",
        "plt.scatter(test_features[0, np.where(test_y==-1)], test_features[1, np.where(test_y==-1)], color='blue')\n",
        "plt.plot(linx, y, color=\"red\")\n",
        "plt.axvline(x=xdiv, color = \"red\")\n",
        "plt.title(\"Features Learned By NN (Test_Set)\")\n",
        "plt.xlabel(\"Feature 1\")\n",
        "plt.ylabel(\"Feature 2\")\n",
        "plt.legend([\"Last Layer Output\", \"Decision Boundary\"])"
      ],
      "execution_count": 61,
      "outputs": [
        {
          "output_type": "stream",
          "text": [
            "Learned Linear Weights =  [[-0.02033227 -0.02048701]] , Learned Linear Bias =  [0.00027422]\n"
          ],
          "name": "stdout"
        },
        {
          "output_type": "execute_result",
          "data": {
            "text/plain": [
              "<matplotlib.legend.Legend at 0x7fd76266c2b0>"
            ]
          },
          "metadata": {
            "tags": []
          },
          "execution_count": 61
        },
        {
          "output_type": "display_data",
          "data": {
            "image/png": "[encoded data removed]",
            "text/plain": [
              "<Figure size 432x288 with 1 Axes>"
            ]
          },
          "metadata": {
            "tags": []
          }
        },
        {
          "output_type": "display_data",
          "data": {
            "image/png": "[encoded data removed]",
            "text/plain": [
              "<Figure size 432x288 with 1 Axes>"
            ]
          },
          "metadata": {
            "tags": []
          }
        }
      ]
    },
    {
      "cell_type": "markdown",
      "metadata": {
        "id": "VpFKW3ZTQNql",
        "colab_type": "text"
      },
      "source": [
        "# Answer\n",
        "Our network has learned two things. First, it has learned to seperate our datapoints into the red and the blue groups by features. This is what the network learned in the first linear layer. \n",
        "Second, our network leanrned how to seperate the two groups. The red line is the output of the model at a given Feature 1 value. The red vertical line is where it was thresholded (Y=0). You can see the analogous thresholding in green using the opposite features. "
      ]
    },
    {
      "cell_type": "code",
      "metadata": {
        "id": "WhTe3CMqs2UC",
        "colab_type": "code",
        "colab": {}
      },
      "source": [
        ""
      ],
      "execution_count": 0,
      "outputs": []
    },
    {
      "cell_type": "code",
      "metadata": {
        "id": "Gtz_bU0ZUERy",
        "colab_type": "code",
        "colab": {}
      },
      "source": [
        ""
      ],
      "execution_count": 0,
      "outputs": []
    }
  ]
}
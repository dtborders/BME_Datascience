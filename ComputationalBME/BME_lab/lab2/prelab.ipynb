{
  "nbformat": 4,
  "nbformat_minor": 0,
  "metadata": {
    "colab": {
      "name": "prelab.ipynb",
      "provenance": [],
      "collapsed_sections": [],
      "toc_visible": true
    },
    "kernelspec": {
      "display_name": "Python 3",
      "language": "python",
      "name": "python3"
    },
    "language_info": {
      "codemirror_mode": {
        "name": "ipython",
        "version": 3
      },
      "file_extension": ".py",
      "mimetype": "text/x-python",
      "name": "python",
      "nbconvert_exporter": "python",
      "pygments_lexer": "ipython3",
      "version": "3.6.5"
    }
  },
  "cells": [
    {
      "cell_type": "markdown",
      "metadata": {
        "colab_type": "text",
        "id": "tTbiC0_eruI1"
      },
      "source": [
        "# Pre-lab description\n",
        "In this pre-lab we will learn how to implement gradient descent for finding local minima of a given cost function. This will provide us with a basic tool for many learning and classification problems since, at the end of the day, finding a classifier amounts to solving some optimization problem. In this lab we will also learn how gradient descent\n",
        "can be implemented using [PyTorch](https://pytorch.org/tutorials/), a scientific library for developing machine (deep) learning methods. Towards that goal, we will be learning a [linear classifier](https://en.wikipedia.org/wiki/Linear_classifier) on the [MNIST](https://en.wikipedia.org/wiki/MNIST_database) digit [dataset](http://yann.lecun.com/exdb/mnist/). As a loss function, we will be using a simple quadratic function. You will first apply your calculus skills to the problem, and analytically solve it. Then you will learn how to solve the same problem by implementing the gradient descent method and applying it to the cost function. Finally, you will learn the basics of PyTorch by using the built-in functions to train the classifier. This pre-lab assignment needs to be solved in this Notebook.\n",
        "\n",
        "## The data\n",
        "The MNIST database \\[[1](http://yann.lecun.com/exdb/mnist/)\\]\\[[2](https://en.wikipedia.org/wiki/MNIST_database)\\] consists of $28\\times 28$ grayscale images of handwritten digits, along with the correct label for each image. These are in the form of $28\\times 28$ matrices with the value of each index being an 8-bit integer ranging from 0 (black) to 255 (white), and one integer between 0 and 9, corresponding to the digit displayed in the image. The database is split into two separate training and testing sets.\n",
        "\n",
        "\n",
        "## Problem description\n",
        "We are given a set of $N$ feature-label pairs $\\big\\{\\big(\\boldsymbol x_i,c_i\\big)\\big\\}_{i=0}^{N-1}$ where each $\\boldsymbol x_i\\in\\mathbb{R}^p$ corresponds to a vectorized $28\\times28$ grayscale image of a digit, and $c_i=\\{0,1,\\ldots,9\\}$ is the digit's class. Since we are dealing with a multi-class classification problem we will encode each digit's class with a one-hot embedding vector as:\n",
        "$$\\boldsymbol y_i = [y_{i0},\\ldots, y_{in}],\\quad y_{ij} = \\begin{cases}1 &c_i = j\\\\0&\\textrm{else}\\end{cases}.$$\n",
        "The goal is then to find a prediction function $f:\\mathbb{R}^p\\mapsto\\{0,1\\}^n$ that maps features $\\boldsymbol x_i$ (images) to labels $\\boldsymbol y_i$. In order to do so, we will use a linear prediction function:\n",
        "\n",
        "$$f(\\boldsymbol x) = \\boldsymbol W \\boldsymbol x,\\quad \\boldsymbol W\\in\\mathbb{R}^{p\\times n},$$\n",
        "where the $j$th row of $\\boldsymbol W$ represents a predictor for the $j$th class. In order to decide upon the estimated class we take the strongest response of our set of predictors, that is:\n",
        "$$\\widehat{c}_i = \\arg\\max_{j}\\,\\boldsymbol W\\boldsymbol x_i.$$"
      ]
    },
    {
      "cell_type": "markdown",
      "metadata": {
        "id": "Z6TBwg3LhFTk",
        "colab_type": "text"
      },
      "source": [
        "## Problem formulation (optimization problem)\n",
        "With all previous considerations in mind we can now define the optimization problem to estimate the parameters $\\boldsymbol W$ of our linear predictor. In order to do that, we need to define some loss function on our predictions that penalizes deviations from the true target. For this problem, we will be using a simple quadratic loss function $L\\big(f(\\boldsymbol x),\\boldsymbol y\\big) = \\lVert \\boldsymbol y - f(\\boldsymbol x)\\rVert_2^2$. The goal is then to find the parameters $\\boldsymbol W$ of our linear predictor function $f(\\cdot)$ that minimize the average loss over the set of samples:\n",
        "$$\\min_{\\boldsymbol W}\\; \\frac{1}{N}\\sum_{i=0}^{N-1}\\lVert \\boldsymbol y_i - \\boldsymbol W\\boldsymbol x_i\\rVert_2^2.$$\n",
        "Note that the above optimization problem can be expressed in a compact form as:\n",
        "$$\\min_{\\boldsymbol W}\\; \\frac{1}{N}\\lVert \\boldsymbol Y - \\boldsymbol W\\boldsymbol X\\rVert_F^2,$$\n",
        "where $\\lVert\\cdot\\rVert_F$ is the Frobenius ($\\ell_2$) norm of a matrix, and where the matrices $\\boldsymbol Y=[\\boldsymbol y_0,\\ldots,\\boldsymbol y_{N-1}]$ and $\\boldsymbol X = [\\boldsymbol x_0,\\ldots,\\boldsymbol x_{N-1}]$ consist of stacking the label and feature vector representations, respectively."
      ]
    },
    {
      "cell_type": "markdown",
      "metadata": {
        "id": "i2XNuhhOhFTn",
        "colab_type": "text"
      },
      "source": [
        "**Exercise 1.** Given the feature and label matrices $\\boldsymbol X\\in\\mathbb{R}^{p\\times N}$ and $\\boldsymbol Y\\in\\mathbb{R}^{n\\times N}$, find a closed-form solution $\\boldsymbol W^\\star$ for the optimization problem:\n",
        "$$\\min_{\\boldsymbol W}\\; \\frac{1}{N}\\lVert \\boldsymbol Y - \\boldsymbol W\\boldsymbol X\\rVert_F^2.$$\n",
        "You can find the minimizer by setting the derivative of the cost function to zero."
      ]
    },
    {
      "cell_type": "markdown",
      "metadata": {
        "id": "dSVRDe6ehFTr",
        "colab_type": "text"
      },
      "source": [
        "Add derivation here and put the expression of the optimal solution:\n",
        "\n",
        "$$\\boldsymbol W^\\star = \\cdots$$\n",
        "we can get rid of the 1/N b/c it doesnt affect the minimization. \n",
        "$$d/dW(expr)=0=2(Y-WX)X^T$$\n",
        "$$YX^T=WXX^T$$\n",
        "$$W=YX^T(XX^T)^{-1}$$\n",
        "\n",
        "\n",
        "\n",
        "\n"
      ]
    },
    {
      "cell_type": "markdown",
      "metadata": {
        "colab_type": "text",
        "id": "o3tBC7c6QOi4"
      },
      "source": [
        "# Data loading and pre-processing\n",
        "\n",
        "First we need to download the data to Google Drive and pre-process it. The MNIST database is very well known and available to download in PyTorch using a [pre-defined function](https://pytorch.org/docs/stable/torchvision/datasets.html#mnist). Then, we scale and shift the images such that the value associated with each index lies between -1 and +1. Again, we can use pre-defined PyTorch [transform functions](https://pytorch.org/docs/stable/torchvision/transforms.html) to do so. This requires an extra step of casting the image to a `torch.Tensor` object. Tensors are multi-dimensional array objects that PyTorch uses as variables."
      ]
    },
    {
      "cell_type": "markdown",
      "metadata": {
        "colab_type": "text",
        "id": "0oL54kYHruI2"
      },
      "source": [
        "As usual, we start our Python code by importing the dependencies, and mounting Google Drive:"
      ]
    },
    {
      "cell_type": "code",
      "metadata": {
        "id": "S58hGH-WmMBK",
        "colab_type": "code",
        "colab": {}
      },
      "source": [
        ""
      ],
      "execution_count": 0,
      "outputs": []
    },
    {
      "cell_type": "code",
      "metadata": {
        "colab_type": "code",
        "id": "RXhX_Wh9ruI4",
        "outputId": "1be8ea83-69f8-4a28-df66-818d691f14f2",
        "colab": {
          "base_uri": "https://localhost:8080/",
          "height": 189
        }
      },
      "source": [
        "# import modules here\n",
        "import torch\n",
        "import torchvision\n",
        "import torchvision.transforms as transforms\n",
        "import numpy as np\n",
        "import matplotlib.pyplot as plt\n",
        "\n",
        "# inline plots for matplotlib\n",
        "%matplotlib inline\n",
        "\n",
        "# mount GDrive\n",
        "from google.colab import drive\n",
        "drive.mount('gdrive/')"
      ],
      "execution_count": 1,
      "outputs": [
        {
          "output_type": "stream",
          "text": [
            "Go to this URL in a browser: https://accounts.google.com/o/oauth2/auth?client_id=947318989803-6bn6qk8qdgf4n4g3pfee6491hc0brc4i.apps.googleusercontent.com&redirect_uri=urn%3Aietf%3Awg%3Aoauth%3A2.0%3Aoob&scope=email%20https%3A%2F%2Fwww.googleapis.com%2Fauth%2Fdocs.test%20https%3A%2F%2Fwww.googleapis.com%2Fauth%2Fdrive%20https%3A%2F%2Fwww.googleapis.com%2Fauth%2Fdrive.photos.readonly%20https%3A%2F%2Fwww.googleapis.com%2Fauth%2Fpeopleapi.readonly&response_type=code\n",
            "\n",
            "Enter your authorization code:\n",
            "··········\n",
            "Mounted at gdrive/\n"
          ],
          "name": "stdout"
        }
      ]
    },
    {
      "cell_type": "markdown",
      "metadata": {
        "colab_type": "text",
        "id": "mW4jxoUSTS8N"
      },
      "source": [
        "Next, we use the `torchvision.datasets.MNIST` command to load the database. For this purpose, make a folder named `prelab-02` inside a `bmdslab` directory in your Google Drive. As the database is very large and contains more images than we require, we use the PyTorch [dataloader function](https://pytorch.org/docs/stable/data.html#torch.utils.data.DataLoader) to load a certain number of images, along with their labels, as local varables: "
      ]
    },
    {
      "cell_type": "code",
      "metadata": {
        "colab_type": "code",
        "id": "YZ4kUG9qmREf",
        "colab": {}
      },
      "source": [
        "# set the seed of PyTorch random number generator for reproducibility\n",
        "torch.manual_seed(0)\n",
        "\n",
        "# define transformation object to be applied to the data, list of transformations through Compose\n",
        "# first convert to tensor\n",
        "# then subtract 0.5 to every entry\n",
        "transform = transforms.Compose([transforms.ToTensor(),transforms.Normalize((0.5,), (0.5,))])\n",
        "\n",
        "# download the data if not already in the specified directory\n",
        "trainset = torchvision.datasets.MNIST('gdrive/My Drive/bmdslab/prelab-02/', train=True, transform=transform, download=True)\n",
        "testset  = torchvision.datasets.MNIST('gdrive/My Drive/bmdslab/prelab-02/', train=False, transform=transform, download=True)\n",
        "\n",
        "# specify the number of points to be extracted at every iteration\n",
        "trainloader = torch.utils.data.DataLoader(trainset, batch_size=10000,shuffle=False) # 10,000 images from the training set\n",
        "testloader = torch.utils.data.DataLoader(testset, batch_size=1000,shuffle=False)    #  1,000 images from the testing set\n",
        "\n",
        "# create an iterator to return the data from the data loader\n",
        "dataiter = iter(trainloader)\n",
        "# loading the training data into the images and labels variables\n",
        "images, labels = dataiter.next()\n",
        "\n",
        "# similarly for the test data\n",
        "test_dataiter = iter(testloader)\n",
        "test_images, test_labels = test_dataiter.next()"
      ],
      "execution_count": 0,
      "outputs": []
    },
    {
      "cell_type": "code",
      "metadata": {
        "colab_type": "code",
        "id": "yLAlH2ZJklzK",
        "outputId": "45c58c22-535a-4f0d-d984-bf78ac2cc422",
        "colab": {
          "base_uri": "https://localhost:8080/",
          "height": 51
        }
      },
      "source": [
        "# check the sizes to make sure you have done everything right:\n",
        "print(images.shape) # you should get [10000,1,28,28]\n",
        "print(labels.shape)"
      ],
      "execution_count": 3,
      "outputs": [
        {
          "output_type": "stream",
          "text": [
            "torch.Size([10000, 1, 28, 28])\n",
            "torch.Size([10000])\n"
          ],
          "name": "stdout"
        }
      ]
    },
    {
      "cell_type": "markdown",
      "metadata": {
        "id": "qLWQE9LDhFUS",
        "colab_type": "text"
      },
      "source": [
        "Now your data is in the `images` variable. Let's just display an example."
      ]
    },
    {
      "cell_type": "code",
      "metadata": {
        "colab_type": "code",
        "id": "xkWWjQavl-sr",
        "outputId": "3003b9ea-48b8-49da-f404-6e4d7356e9f1",
        "colab": {
          "base_uri": "https://localhost:8080/",
          "height": 286
        }
      },
      "source": [
        "# choose an index\n",
        "num_image = 5\n",
        "\n",
        "# for displaying an image we need to convert the tensor to a numpy array\n",
        "# the squeeze() function removes all redundant dimensions of the array i.e., \n",
        "# images[num_array] is a 1x1x28x28 array\n",
        "plt.imshow(images[num_image].numpy().squeeze(), cmap='gray');\n",
        "\n",
        "# maybe investigate the values:\n",
        "print(images[1,0,22,10].squeeze())"
      ],
      "execution_count": 4,
      "outputs": [
        {
          "output_type": "stream",
          "text": [
            "tensor(0.9843)\n"
          ],
          "name": "stdout"
        },
        {
          "output_type": "display_data",
          "data": {
            "image/png": "[encoded data removed]",
            "text/plain": [
              "<Figure size 432x288 with 1 Axes>"
            ]
          },
          "metadata": {
            "tags": []
          }
        }
      ]
    },
    {
      "cell_type": "code",
      "metadata": {
        "id": "LXZkOuCwhFUY",
        "colab_type": "code",
        "outputId": "b76ac543-c489-4401-d6e1-b0f08f3ef674",
        "colab": {
          "base_uri": "https://localhost:8080/",
          "height": 102
        }
      },
      "source": [
        "print(images[1,0,0:5,0:5].squeeze())"
      ],
      "execution_count": 5,
      "outputs": [
        {
          "output_type": "stream",
          "text": [
            "tensor([[-1., -1., -1., -1., -1.],\n",
            "        [-1., -1., -1., -1., -1.],\n",
            "        [-1., -1., -1., -1., -1.],\n",
            "        [-1., -1., -1., -1., -1.],\n",
            "        [-1., -1., -1., -1., -1.]])\n"
          ],
          "name": "stdout"
        }
      ]
    },
    {
      "cell_type": "markdown",
      "metadata": {
        "colab_type": "text",
        "id": "qn8imXYvX42f"
      },
      "source": [
        "**Exercise 2.** Using the data provided for training and the expression for the optimal predictor's weights derived in the previous exercise compute the optimal predictor over the training data. Apply also your predictor to the testing set. Report classification accuracy over both training and testing sets."
      ]
    },
    {
      "cell_type": "markdown",
      "metadata": {
        "id": "vEX8c0gAhFUd",
        "colab_type": "text"
      },
      "source": [
        "For a set of ground-truth labels $c_i$ and their corresponding estimates $\\widehat{c}_i$, the __accuracy__ is defined as:\n",
        "\n",
        "$$Acc = \\frac{1}{N}\\sum_{i=0}^{N-1}\\mathbb{1}\\big(c_i == \\widehat{c}_i\\big),\\quad \\mathbb{1}\\big(z\\big) = \\begin{cases}1&z\\; \\textrm{is true}\\\\0 &\\textrm{else}\\end{cases}.$$"
      ]
    },
    {
      "cell_type": "code",
      "metadata": {
        "colab_type": "code",
        "id": "IceYhRVam_LO",
        "outputId": "343ce1be-cad3-41a7-a8e7-f63c8ff99afd",
        "colab": {
          "base_uri": "https://localhost:8080/",
          "height": 85
        }
      },
      "source": [
        "\n",
        "import math\n",
        "\n",
        "#Make the X vector in the shape (784, len(imgs))\n",
        "def makeX(imgs):\n",
        "  Xcurr=imgs.reshape((imgs.shape[0], 28**2)).numpy()\n",
        "  for i in range(Xcurr.shape[0]):\n",
        "    #Normalize each image vector to a lenght of one\n",
        "    Xcurr[i]=Xcurr[i]/math.sqrt(sum(list(map(lambda x: x**2, list(Xcurr[i])))))  #np.linalg.norm(Xcurr[i])  #Xcurr[i].sum()#np.linalg.norm(Xcurr[i]) #math.sqrt(sum(list(map(lambda x: x**2, list(Xcurr[i]))))) #np.linalg.norm(Xcurr[i]) #math.sqrt(sum(list(map(lambda x: x**2, list(X[i])))))  #np.linalg.norm(X[i]) # \n",
        "  Xcurr=np.transpose(Xcurr)\n",
        "  return Xcurr\n",
        "\n",
        "print(images.shape)\n",
        "X=makeX(images)\n",
        "print(test_images.shape)\n",
        "Xtest=makeX(test_images)\n",
        "  \n",
        "def makeY(labs):\n",
        "  #Make the Y vector in shape (10, len(imgs))\n",
        "  Ycurr = np.zeros((labs.shape[0], 10))\n",
        "  for i in range(labs.shape[0]):\n",
        "    Ycurr[i, labs[i]]=1\n",
        "  Ycurr=np.transpose(Ycurr)\n",
        "  return Ycurr\n",
        "print(labels.shape)\n",
        "Y=makeY(labels)\n",
        "print(test_labels.shape)\n",
        "Ytest=makeY(test_labels)"
      ],
      "execution_count": 14,
      "outputs": [
        {
          "output_type": "stream",
          "text": [
            "torch.Size([10000, 1, 28, 28])\n",
            "torch.Size([1000, 1, 28, 28])\n",
            "torch.Size([10000])\n",
            "torch.Size([1000])\n"
          ],
          "name": "stdout"
        }
      ]
    },
    {
      "cell_type": "code",
      "metadata": {
        "id": "raO-ftO8g51L",
        "colab_type": "code",
        "colab": {}
      },
      "source": [
        "Xtrain=images.reshape((images.shape[0], 28**2)).numpy()\n",
        "for i in range(Xtrain.shape[0]):\n",
        "  norm=Xtrain[i]/np.linalg.norm(Xtrain[i])\n",
        "  Xtrain[i]=norm\n",
        "Xtrain=Xtrain.T\n",
        "\n",
        "Xtest=test_images.reshape((test_images.shape[0], 28**2)).numpy()\n",
        "for i in range(Xtrain.shape[0]):\n",
        "  norm=Xtest[i]/np.linalg.norm(Xtest[i])\n",
        "  Xtest[i]=norm\n",
        "Xtest=Xtest.T\n",
        "\n",
        "Ytrain=np.zeros((10, labels.shape[0]))\n",
        "for i in range(Ytrain.shape[1]):\n",
        "  Ytrain[labels[i], i]=1\n",
        "\n",
        "Ytest=np.zeros((10, test_labels.shape[0]))\n",
        "for i in range(Ytest.shape[1]):\n",
        "  Ytest[test_labels[i], i]=1"
      ],
      "execution_count": 0,
      "outputs": []
    },
    {
      "cell_type": "code",
      "metadata": {
        "id": "IlpCmfwTsAD2",
        "colab_type": "code",
        "outputId": "319398c6-c79f-47c9-a0d1-3227364805c0",
        "colab": {
          "base_uri": "https://localhost:8080/",
          "height": 68
        }
      },
      "source": [
        "#Find optimal weights\n",
        "Wstar=np.matmul(Ytrain, np.matmul(np.transpose(Xtrain), np.linalg.pinv(np.matmul(Xtrain, np.transpose(Xtrain)))))\n",
        "\n",
        "#Print a sample prediction\n",
        "ndx=1\n",
        "pred=np.matmul(Wstar, Xtest[:, ndx])\n",
        "print(pred)\n",
        "print(Ytest[:, ndx])"
      ],
      "execution_count": 21,
      "outputs": [
        {
          "output_type": "stream",
          "text": [
            "[-0.10372541 -0.43165265  0.57926147 -0.57819899 -1.05494009 -0.46197397\n",
            "  0.17928745 -0.30494773 -0.48918831 -0.60363766]\n",
            "[0. 0. 1. 0. 0. 0. 0. 0. 0. 0.]\n"
          ],
          "name": "stdout"
        }
      ]
    },
    {
      "cell_type": "code",
      "metadata": {
        "id": "eHM_d2a_qtEe",
        "colab_type": "code",
        "outputId": "117dd08e-a07d-44b9-8f05-c50a8752623a",
        "colab": {
          "base_uri": "https://localhost:8080/",
          "height": 51
        }
      },
      "source": [
        "def compute_accuracy(Xset, W, Y):\n",
        "  preds = np.matmul(W, Xset)\n",
        "  counter=0\n",
        "  for i in range(preds.shape[1]):\n",
        "    pred=np.where(preds[:,i]==preds[:,i].max())[0]\n",
        "    if pred == np.where(Y[:,i]==Y[:,i].max())[0]: counter+=1\n",
        "  return counter/preds.shape[1]\n",
        "\n",
        "print(\"training accuracy = \", compute_accuracy(Xtrain, Wstar, Ytrain)*100, \"%\")\n",
        "print(\"testing  accuracy = \", compute_accuracy(Xtest, Wstar, Ytest)*100, \"%\")"
      ],
      "execution_count": 23,
      "outputs": [
        {
          "output_type": "stream",
          "text": [
            "training accuracy =  73.8 %\n",
            "testing  accuracy =  62.9 %\n"
          ],
          "name": "stdout"
        }
      ]
    },
    {
      "cell_type": "markdown",
      "metadata": {
        "colab_type": "text",
        "id": "Z2HEbvXhbVne"
      },
      "source": [
        "## Optimization via gradient descent\n",
        "The quadratic optimization problem considered in this pre-lab has a closed-form solution. In many practical cases however, a closed-form solution does not exist and the solution needs to be computed via an iterative method. Suppose we are given a smooth cost function $C(\\boldsymbol x)$ that we want to minimize over $\\boldsymbol x$. A very simple method to find a local minimizer of the function is to use a _gradient descent_ method. The main idea is to compute the gradient (derivative) of the cost function at a given point and move towards the direction opposite to the gradient of the function (recall that the gradient of a function gives you the direction of maximum variation of the signal). This process is repeated until convergence to a critical point of the cost function to be minimized. The general procedure for the gradient descent method at every iteration is given by the following update rule:\n",
        "$$\n",
        " \t\\boldsymbol x^{(k+1)} = \\boldsymbol x^{(k)} - \\mu \\nabla_{\\boldsymbol x} C\\big(\\boldsymbol x^{(k)}\\big),\n",
        "$$\n",
        "where $\\boldsymbol x^{(k)}$ denotes the estimate at $k$th iteration, $ \\nabla_{\\boldsymbol x} C\\big(\\cdot\\big)$ is the gradient of $C\\big(\\cdot\\big)$ with respect to $\\boldsymbol x$, and $\\mu$ is the step-size for the gradient descent updates."
      ]
    },
    {
      "cell_type": "markdown",
      "metadata": {
        "colab_type": "text",
        "id": "a52ffMcrYu1G"
      },
      "source": [
        "**Exercise 3.** _(Optional)_ Write down the equation for the gradient descent of the considered problem. Starting from an initial weight matrix of all zeros $\\boldsymbol W^{(0)}=\\boldsymbol 0$ implement a gradient descent optimization algorithm to find the optimal solution to our classification problem. Run the method for a sufficiently large number of iterations or until you meet some convergence criterion (_e.g.,_ relative change of the cost function smaller than some threshold). On two separate plots, display the evolution of the cost function over the iterations and the difference between your current estimate and the optimal estimate $\\lVert \\boldsymbol W^\\star - \\boldsymbol W^{(k)} \\rVert_F^2$. Since the considered cost function has a unique and global minimizer your iterates should converge to the optimal solution obtained from the analytical expression."
      ]
    },
    {
      "cell_type": "markdown",
      "metadata": {
        "colab_type": "text",
        "id": "hDnK4upde4F2"
      },
      "source": [
        "*Write the expression for the gradient update in this cell*\n",
        "\n",
        "$$ \\boldsymbol W^{(k)} = W^{(k-1)} - \\sigma \\nabla(C(W^{(k-1)}))$$ \n",
        "as seen in exercise one:\n",
        "$$ \\nabla W^{(k-1)} = -\\frac {2} {N} (Y-WX)^TX$$\n",
        "so:\n",
        "$$ W^{k} = W^{(k-1)} + \\frac {2\\sigma} {N} (Y-WX)^TX $$"
      ]
    },
    {
      "cell_type": "code",
      "metadata": {
        "colab_type": "code",
        "id": "Qb4FNIthqdcw",
        "outputId": "ef8185fe-87b8-41f9-fa24-0cb4c4612f74",
        "colab": {
          "base_uri": "https://localhost:8080/",
          "height": 487
        }
      },
      "source": [
        "Wgdes = np.zeros(Wstar.shape)\n",
        "sigma=1e-7\n",
        "\n",
        "\n",
        "losses=[]\n",
        "diffrences=[]\n",
        "\n",
        "cuttoff = .001 #arbitrary point to stop training. \n",
        "\n",
        "while len(losses)<2 or abs(losses[-2]-losses[-1]) > cuttoff:\n",
        "  Wgdes = Wgdes + (2*sigma)*np.matmul(Ytrain-np.matmul(Wgdes,Xtrain), Xtrain.T)\n",
        "  loss=np.power(np.linalg.norm(Ytrain-np.matmul(Wgdes, Xtrain)), 2)\n",
        "  losses.append(loss)\n",
        "  \n",
        "  diffrences.append(np.linalg.norm(Wstar-Wgdes))\n",
        "  \n",
        "  if(len(losses)>0 and len(losses) % 2500 == 0):\n",
        "    print(\"Iteration = {}, current loss = {}\".format(len(losses), losses[-1]))\n",
        "print(\"completed in \", len(losses), \" iterations\") "
      ],
      "execution_count": 25,
      "outputs": [
        {
          "output_type": "stream",
          "text": [
            "Iteration = 2500, current loss = 8429.123883396023\n",
            "Iteration = 5000, current loss = 7952.307047422482\n",
            "Iteration = 7500, current loss = 7551.191780262136\n",
            "Iteration = 10000, current loss = 7211.247661808872\n",
            "Iteration = 12500, current loss = 6921.479897094702\n",
            "Iteration = 15000, current loss = 6673.049883212918\n",
            "Iteration = 17500, current loss = 6458.827894677809\n",
            "Iteration = 20000, current loss = 6273.042583807816\n",
            "Iteration = 22500, current loss = 6111.0053653256655\n",
            "Iteration = 25000, current loss = 5968.893210506575\n",
            "Iteration = 27500, current loss = 5843.5770793118245\n",
            "Iteration = 30000, current loss = 5732.486076122107\n",
            "Iteration = 32500, current loss = 5633.499621773947\n",
            "Iteration = 35000, current loss = 5544.861641392262\n",
            "Iteration = 37500, current loss = 5465.112088950109\n"
          ],
          "name": "stdout"
        },
        {
          "output_type": "error",
          "ename": "KeyboardInterrupt",
          "evalue": "ignored",
          "traceback": [
            "\u001b[0;31m---------------------------------------------------------------------------\u001b[0m",
            "\u001b[0;31mKeyboardInterrupt\u001b[0m                         Traceback (most recent call last)",
            "\u001b[0;32m<ipython-input-25-f1a020dd5e72>\u001b[0m in \u001b[0;36m<module>\u001b[0;34m()\u001b[0m\n\u001b[1;32m      9\u001b[0m \u001b[0;34m\u001b[0m\u001b[0m\n\u001b[1;32m     10\u001b[0m \u001b[0;32mwhile\u001b[0m \u001b[0mlen\u001b[0m\u001b[0;34m(\u001b[0m\u001b[0mlosses\u001b[0m\u001b[0;34m)\u001b[0m\u001b[0;34m<\u001b[0m\u001b[0;36m2\u001b[0m \u001b[0;32mor\u001b[0m \u001b[0mabs\u001b[0m\u001b[0;34m(\u001b[0m\u001b[0mlosses\u001b[0m\u001b[0;34m[\u001b[0m\u001b[0;34m-\u001b[0m\u001b[0;36m2\u001b[0m\u001b[0;34m]\u001b[0m\u001b[0;34m-\u001b[0m\u001b[0mlosses\u001b[0m\u001b[0;34m[\u001b[0m\u001b[0;34m-\u001b[0m\u001b[0;36m1\u001b[0m\u001b[0;34m]\u001b[0m\u001b[0;34m)\u001b[0m \u001b[0;34m>\u001b[0m \u001b[0mcuttoff\u001b[0m\u001b[0;34m:\u001b[0m\u001b[0;34m\u001b[0m\u001b[0;34m\u001b[0m\u001b[0m\n\u001b[0;32m---> 11\u001b[0;31m   \u001b[0mWgdes\u001b[0m \u001b[0;34m=\u001b[0m \u001b[0mWgdes\u001b[0m \u001b[0;34m+\u001b[0m \u001b[0;34m(\u001b[0m\u001b[0;36m2\u001b[0m\u001b[0;34m*\u001b[0m\u001b[0msigma\u001b[0m\u001b[0;34m)\u001b[0m\u001b[0;34m*\u001b[0m\u001b[0mnp\u001b[0m\u001b[0;34m.\u001b[0m\u001b[0mmatmul\u001b[0m\u001b[0;34m(\u001b[0m\u001b[0mYtrain\u001b[0m\u001b[0;34m-\u001b[0m\u001b[0mnp\u001b[0m\u001b[0;34m.\u001b[0m\u001b[0mmatmul\u001b[0m\u001b[0;34m(\u001b[0m\u001b[0mWgdes\u001b[0m\u001b[0;34m,\u001b[0m\u001b[0mXtrain\u001b[0m\u001b[0;34m)\u001b[0m\u001b[0;34m,\u001b[0m \u001b[0mXtrain\u001b[0m\u001b[0;34m.\u001b[0m\u001b[0mT\u001b[0m\u001b[0;34m)\u001b[0m\u001b[0;34m\u001b[0m\u001b[0;34m\u001b[0m\u001b[0m\n\u001b[0m\u001b[1;32m     12\u001b[0m   \u001b[0mloss\u001b[0m\u001b[0;34m=\u001b[0m\u001b[0mnp\u001b[0m\u001b[0;34m.\u001b[0m\u001b[0mpower\u001b[0m\u001b[0;34m(\u001b[0m\u001b[0mnp\u001b[0m\u001b[0;34m.\u001b[0m\u001b[0mlinalg\u001b[0m\u001b[0;34m.\u001b[0m\u001b[0mnorm\u001b[0m\u001b[0;34m(\u001b[0m\u001b[0mYtrain\u001b[0m\u001b[0;34m-\u001b[0m\u001b[0mnp\u001b[0m\u001b[0;34m.\u001b[0m\u001b[0mmatmul\u001b[0m\u001b[0;34m(\u001b[0m\u001b[0mWgdes\u001b[0m\u001b[0;34m,\u001b[0m \u001b[0mXtrain\u001b[0m\u001b[0;34m)\u001b[0m\u001b[0;34m)\u001b[0m\u001b[0;34m,\u001b[0m \u001b[0;36m2\u001b[0m\u001b[0;34m)\u001b[0m\u001b[0;34m\u001b[0m\u001b[0;34m\u001b[0m\u001b[0m\n\u001b[1;32m     13\u001b[0m   \u001b[0mlosses\u001b[0m\u001b[0;34m.\u001b[0m\u001b[0mappend\u001b[0m\u001b[0;34m(\u001b[0m\u001b[0mloss\u001b[0m\u001b[0;34m)\u001b[0m\u001b[0;34m\u001b[0m\u001b[0;34m\u001b[0m\u001b[0m\n",
            "\u001b[0;31mKeyboardInterrupt\u001b[0m: "
          ]
        }
      ]
    },
    {
      "cell_type": "code",
      "metadata": {
        "id": "lAQ-lIOyRO6-",
        "colab_type": "code",
        "colab": {}
      },
      "source": [
        "#Sorry i had to end the previous cell early due to time constraints. "
      ],
      "execution_count": 0,
      "outputs": []
    },
    {
      "cell_type": "code",
      "metadata": {
        "id": "R_KEw6HOwiga",
        "colab_type": "code",
        "outputId": "6ee2d782-8eab-466a-f7a9-4e7989f7f981",
        "colab": {
          "base_uri": "https://localhost:8080/",
          "height": 709
        }
      },
      "source": [
        "plt.figure()\n",
        "plt.plot(losses)\n",
        "plt.xlabel(\"epochs\")\n",
        "plt.ylabel(\"loss\")\n",
        "plt.title(\"losses over time\")\n",
        "\n",
        "plt.figure()\n",
        "plt.plot(diffrences)\n",
        "plt.xlabel(\"epochs\")\n",
        "plt.ylabel(\"norms\")\n",
        "plt.title(\"norms over time\")\n",
        "\n",
        "#Print a sample prediction\n",
        "ndx=1\n",
        "pred=np.matmul(Wgdes, Xtest[:, ndx])\n",
        "print(pred)\n",
        "print(Ytest[:, ndx])\n",
        "\n",
        "ndx=1\n",
        "pred=np.matmul(Wstar, Xtest[:, ndx])\n",
        "print(pred)\n",
        "print(Ytest[:, ndx])\n",
        "\n",
        "print(\"Training Accuracy = \", compute_accuracy(Xtrain, Wgdes, Ytrain)*100, \"%\")\n",
        "print(\"Testing  Accuracy = \", compute_accuracy(Xtest, Wgdes, Ytest)*100, \"%\")"
      ],
      "execution_count": 46,
      "outputs": [
        {
          "output_type": "stream",
          "text": [
            "[ 0.14891276  0.17483162  0.23791613  0.19736541 -0.1116882   0.15834878\n",
            "  0.27342543 -0.11017575  0.07240942 -0.10251391]\n",
            "[0. 0. 1. 0. 0. 0. 0. 0. 0. 0.]\n",
            "[-0.10372541 -0.43165265  0.57926147 -0.57819899 -1.05494009 -0.46197397\n",
            "  0.17928745 -0.30494773 -0.48918831 -0.60363766]\n",
            "[0. 0. 1. 0. 0. 0. 0. 0. 0. 0.]\n",
            "Training Accuracy =  77.9 %\n",
            "Testing  Accuracy =  74.0 %\n"
          ],
          "name": "stdout"
        },
        {
          "output_type": "display_data",
          "data": {
            "image/png": "[encoded data removed]",
            "text/plain": [
              "<Figure size 432x288 with 1 Axes>"
            ]
          },
          "metadata": {
            "tags": []
          }
        },
        {
          "output_type": "display_data",
          "data": {
            "image/png": "[encoded data removed]",
            "text/plain": [
              "<Figure size 432x288 with 1 Axes>"
            ]
          },
          "metadata": {
            "tags": []
          }
        }
      ]
    },
    {
      "cell_type": "markdown",
      "metadata": {
        "colab_type": "text",
        "id": "DD3QUdwLKImc"
      },
      "source": [
        "**Exercise 4.** Repeat the exercise before but now using PyTorch taking advantage of its automatic differentiation feature that will compute the gradients for you. Go to the [PyTorch tutorials](https://pytorch.org/tutorials/beginner/pytorch_with_examples.html) page in order to learn how to manipulate tensors with autograd. You can use random initialization for the weights $\\boldsymbol W^{(0)}$. Why initialization does not matter in this problem?"
      ]
    },
    {
      "cell_type": "code",
      "metadata": {
        "id": "_hcY734GhFUj",
        "colab_type": "code",
        "colab": {
          "base_uri": "https://localhost:8080/",
          "height": 187
        },
        "outputId": "970e59d5-4e92-42e3-a29d-60d2c4fdfb90"
      },
      "source": [
        "Xtrain_torch = torch.from_numpy(Xtrain).double()\n",
        "Ytrain_torch = torch.from_numpy(Ytrain).double()\n",
        "Wtorch = torch.randn((10, 28**2), requires_grad=True).double()\n",
        "Wtorch.retain_grad()\n",
        "\n",
        "losses = []\n",
        "norms = []\n",
        "\n",
        "cuttoff = .00001 #arbitrary point to stop training. \n",
        "\n",
        "lr = .0001\n",
        "\n",
        "i=0\n",
        "while len(losses)<2 or abs(losses[-2]-losses[-1])/abs(losses[-1]) > cuttoff:\n",
        "  ycurr_torch=torch.mm(Wtorch, Xtrain_torch)\n",
        "  closs=torch.norm(Ytrain_torch-ycurr_torch).pow(2)\n",
        "  losses.append(closs.item())\n",
        "  \n",
        "  norm = (Wtorch-torch.from_numpy(Wstar)).pow(2).sum()\n",
        "  norms.append(norm.item())\n",
        "  \n",
        "  closs.backward()\n",
        "  \n",
        "  with torch.no_grad():\n",
        "    Wtorch -= lr * Wtorch.grad\n",
        "    Wtorch.grad.zero_()\n",
        "  if i%1000==0:\n",
        "    print(\"ITER {}: LOSS = {}\".format(i, losses[-1]))\n",
        "  i+=1"
      ],
      "execution_count": 49,
      "outputs": [
        {
          "output_type": "stream",
          "text": [
            "ITER 0: LOSS = 88355.55763898803\n",
            "ITER 1000: LOSS = 5808.696708582363\n",
            "ITER 2000: LOSS = 4930.327715166868\n",
            "ITER 3000: LOSS = 4548.029188013797\n",
            "ITER 4000: LOSS = 4325.8652659213\n",
            "ITER 5000: LOSS = 4179.017732723682\n",
            "ITER 6000: LOSS = 4074.5636437948992\n",
            "ITER 7000: LOSS = 3996.6019394194595\n",
            "ITER 8000: LOSS = 3936.371525187342\n",
            "ITER 9000: LOSS = 3888.6016572287326\n"
          ],
          "name": "stdout"
        }
      ]
    },
    {
      "cell_type": "code",
      "metadata": {
        "id": "g7pkZJEGvkbn",
        "colab_type": "code",
        "colab": {
          "base_uri": "https://localhost:8080/",
          "height": 607
        },
        "outputId": "a156108a-0cc4-4839-b5b2-f912d0b98711"
      },
      "source": [
        "plt.figure()\n",
        "plt.plot(losses)\n",
        "plt.xlabel(\"epochs\")\n",
        "plt.ylabel(\"loss\")\n",
        "plt.title(\"losses over time\")\n",
        "\n",
        "plt.figure()\n",
        "plt.plot(norms)\n",
        "plt.xlabel(\"epochs\")\n",
        "plt.ylabel(\"norms\")\n",
        "plt.title(\"norms over time\")\n",
        "\n",
        "print(\"Training Accuracy = \", compute_accuracy(Xtrain, Wtorch.detach().numpy(), Ytrain)*100, \"%\")\n",
        "print(\"Testing  Accuracy = \", compute_accuracy(Xtest, Wtorch.detach().numpy(), Ytest)*100, \"%\")"
      ],
      "execution_count": 50,
      "outputs": [
        {
          "output_type": "stream",
          "text": [
            "Training Accuracy =  86.59 %\n",
            "Testing  Accuracy =  80.5 %\n"
          ],
          "name": "stdout"
        },
        {
          "output_type": "display_data",
          "data": {
            "image/png": "[encoded data removed]",
            "text/plain": [
              "<Figure size 432x288 with 1 Axes>"
            ]
          },
          "metadata": {
            "tags": []
          }
        },
        {
          "output_type": "display_data",
          "data": {
            "image/png": "[encoded data removed]",
            "text/plain": [
              "<Figure size 432x288 with 1 Axes>"
            ]
          },
          "metadata": {
            "tags": []
          }
        }
      ]
    }
  ]
}
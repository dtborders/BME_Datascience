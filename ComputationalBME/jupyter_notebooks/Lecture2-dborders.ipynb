{
 "cells": [
  {
   "cell_type": "markdown",
   "metadata": {},
   "source": [
    "# Exercise Two"
   ]
  },
  {
   "cell_type": "code",
   "execution_count": null,
   "metadata": {},
   "outputs": [],
   "source": [
    "def regress(X, Y):\n",
    "    \"\"\"\n",
    "    put in lists\n",
    "    \"\"\"\n",
    "    \n",
    "    Ybar=sum(Y)/len(Y)\n",
    "    Xbar=sum(X)/len(X)\n",
    "    \n",
    "    sumxy=0\n",
    "    sumxx=0\n",
    "    for x, y in zip(X, Y):\n",
    "        sumxy+=(y-Ybar)*(x-Xbar)\n",
    "        sumxx+=(x-Xbar)**2\n",
    "        \n",
    "    Bhat1=sumxy/sumxx\n",
    "    \n",
    "    Bhat0=Ybar-Xbar*Bhat1\n",
    "    \n",
    "    return Bhat0, Bhat1"
   ]
  },
  {
   "cell_type": "code",
   "execution_count": 6,
   "metadata": {},
   "outputs": [
    {
     "name": "stdout",
     "output_type": "stream",
     "text": [
      "bhat0=-0.6666666666666665, bhat1=1.5\n"
     ]
    }
   ],
   "source": [
    "bhat0, bhat1 = regress([1,2,3], [1,2,4])\n",
    "print(\"bhat0={}, bhat1={}\".format(bhat0, bhat1))"
   ]
  },
  {
   "cell_type": "markdown",
   "metadata": {},
   "source": [
    "# Exercise Three"
   ]
  },
  {
   "cell_type": "code",
   "execution_count": null,
   "metadata": {},
   "outputs": [],
   "source": []
  }
 ],
 "metadata": {
  "kernelspec": {
   "display_name": "Python 3",
   "language": "python",
   "name": "python3"
  },
  "language_info": {
   "codemirror_mode": {
    "name": "ipython",
    "version": 3
   },
   "file_extension": ".py",
   "mimetype": "text/x-python",
   "name": "python",
   "nbconvert_exporter": "python",
   "pygments_lexer": "ipython3",
   "version": "3.6.5"
  }
 },
 "nbformat": 4,
 "nbformat_minor": 2
}
